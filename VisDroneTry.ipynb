{
 "cells": [
  {
   "cell_type": "code",
   "execution_count": null,
   "id": "71ebeaf9",
   "metadata": {
    "scrolled": true
   },
   "outputs": [],
   "source": [
    "import pandas as pd\n",
    "import numpy as np\n",
    "import torch\n",
    "import os\n",
    "import gc\n"
   ]
  },
  {
   "cell_type": "code",
   "execution_count": null,
   "id": "8d60525c",
   "metadata": {
    "scrolled": true
   },
   "outputs": [],
   "source": [
    "import pickle"
   ]
  },
  {
   "cell_type": "code",
   "execution_count": null,
   "id": "273c56c6",
   "metadata": {
    "scrolled": true
   },
   "outputs": [],
   "source": [
    "from torch.utils.data import DataLoader\n",
    "from torch.utils.data import Dataset"
   ]
  },
  {
   "cell_type": "code",
   "execution_count": null,
   "id": "6a0fd7a7",
   "metadata": {
    "scrolled": true
   },
   "outputs": [],
   "source": [
    "import cv2"
   ]
  },
  {
   "cell_type": "code",
   "execution_count": null,
   "id": "dee6c85c",
   "metadata": {
    "scrolled": true
   },
   "outputs": [],
   "source": [
    "\n",
    "import torchvision.models.detection as tmd\n",
    "from torchvision.models.detection.faster_rcnn import FastRCNNPredictor as FRP\n",
    "import inspect\n",
    "import torchvision\n",
    "#converting the customised rcnn model\n",
    "from torchvision.models.detection.faster_rcnn import FastRCNNPredictor\n"
   ]
  },
  {
   "cell_type": "code",
   "execution_count": null,
   "id": "45a47476",
   "metadata": {
    "scrolled": true
   },
   "outputs": [],
   "source": [
    "root_dir = 'D:\\\\Drone-Object-Detection\\\\VisDroneDataset\\\\'\n",
    "test_dir = 'test\\\\'\n",
    "train_dir = 'train\\\\'\n",
    "val_dir = 'validation\\\\'"
   ]
  },
  {
   "cell_type": "code",
   "execution_count": null,
   "id": "6c89d2c9",
   "metadata": {
    "scrolled": true
   },
   "outputs": [],
   "source": [
    "def split_image_with_asp_ratio(image):\n",
    "    print(image.shape)"
   ]
  },
  {
   "cell_type": "code",
   "execution_count": null,
   "id": "73763507",
   "metadata": {
    "scrolled": true
   },
   "outputs": [],
   "source": [
    "class VisDroneDataset(Dataset):\n",
    "    def __init__(self, path, img_shape):\n",
    "        \n",
    "        self.root = path\n",
    "        self.width = img_shape[1]\n",
    "        self.height = img_shape[0]\n",
    "        self.images = os.listdir(path+'images\\\\')\n",
    "        self.annotations = os.listdir(path+'annotations\\\\')\n",
    "        self.length = len(self.images)\n",
    "        \n",
    "    def __len__(self):\n",
    "        return self.length\n",
    "    \n",
    "    def __getitem__(self, idx):\n",
    "        #print(self.root+'images\\\\'+self.images[idx])\n",
    "        image = cv2.imread(self.root+'images\\\\'+self.images[idx])\n",
    "        #print(image.shape)\n",
    "        img_width = image.shape[1]\n",
    "        img_height = image.shape[0]     #right?\n",
    "        \n",
    "        image  =cv2.cvtColor(image,cv2.COLOR_BGR2RGB)\n",
    "        if ((self.width,self.height) != (-1,-1)):\n",
    "            image = cv2.resize(image,(self.width,self.height),interpolation = cv2.INTER_AREA)\n",
    "        else:\n",
    "            self.width = img_width\n",
    "            self.height = img_height\n",
    "            \n",
    "        image = image.transpose(2,0,1)\n",
    "        image = (image/255.0)\n",
    "        \n",
    "        \n",
    "        #bbox_left, bbox_top, bbox_width, bbox_height, category = map(float, data[:5])\n",
    "        target = self.annotations[idx]    #*.txt file       \n",
    "        \n",
    "        boxes = []\n",
    "        labels = []\n",
    "        with open(self.root+'annotations\\\\'+target) as f:\n",
    "            for line in f:\n",
    "                data = line.split(',')#strip\n",
    "                #print(list(map(float, data[:5])))\n",
    "                box_left, box_top, box_width, box_height,smth, category = map(float, data[:6])\n",
    "                \n",
    "                box_width = 1 if box_width < 1 else box_width\n",
    "                box_height = 1 if box_height < 1 else box_height\n",
    "                \n",
    "                box_right = box_left + box_width\n",
    "                box_bottom = box_top + box_height\n",
    "                #rescale box            \n",
    "                box_left = (box_left/img_width) * self.width\n",
    "                box_right = (box_right/img_width) * self.width\n",
    "                box_top = (box_top/img_height) * self.height\n",
    "                box_bottom = (box_bottom/img_height) * self.height\n",
    "                boxes.append((box_left,box_top,box_right, box_bottom))\n",
    "#                 for b in boxes:\n",
    "#                     for bb in b:\n",
    "#                         if bb > 480 or bb < 0:\n",
    "#                             print(b,'\\n',bb)\n",
    "                labels.append(int(category))\n",
    "                \n",
    "        \n",
    "        boxes = torch.as_tensor(boxes, dtype=torch.float32)\n",
    "        #print(boxes)\n",
    "        labels = torch.as_tensor(labels, dtype=torch.int64)\n",
    "        target = {}\n",
    "        target['boxes'] = boxes\n",
    "        target['labels'] = labels\n",
    "        target['image_id'] = torch.tensor((idx))\n",
    "        \n",
    "        return image, target"
   ]
  },
  {
   "cell_type": "code",
   "execution_count": null,
   "id": "b9fcad35",
   "metadata": {
    "scrolled": true
   },
   "outputs": [],
   "source": [
    "train_dataset = VisDroneDataset(root_dir+train_dir,(480,480))\n",
    "val_dataset = VisDroneDataset(root_dir+val_dir,(-1,-1))"
   ]
  },
  {
   "cell_type": "code",
   "execution_count": null,
   "id": "23293e93",
   "metadata": {
    "scrolled": true
   },
   "outputs": [],
   "source": [
    "def collate_fn(batch):\n",
    "    images = []\n",
    "    targets = []\n",
    "\n",
    "    for img, target in batch:\n",
    "        images.append(img)\n",
    "        targets.append(target)\n",
    "\n",
    "    return (images, targets)\n"
   ]
  },
  {
   "cell_type": "code",
   "execution_count": null,
   "id": "56551681",
   "metadata": {
    "scrolled": true
   },
   "outputs": [],
   "source": [
    "train_loader = DataLoader(train_dataset, batch_size=3, shuffle=True,collate_fn=collate_fn)\n",
    "val_loader = DataLoader(val_dataset, batch_size=3, shuffle=True,collate_fn=collate_fn)"
   ]
  },
  {
   "cell_type": "code",
   "execution_count": null,
   "id": "6e0b2948",
   "metadata": {
    "scrolled": true
   },
   "outputs": [],
   "source": [
    "device = torch.device('cuda:0' if torch.cuda.is_available() else 'cpu')"
   ]
  },
  {
   "cell_type": "code",
   "execution_count": null,
   "id": "f502e7f5",
   "metadata": {
    "scrolled": true
   },
   "outputs": [],
   "source": [
    "torch.hub.set_dir('D:\\\\torch_models')"
   ]
  },
  {
   "cell_type": "code",
   "execution_count": null,
   "id": "ef2d42ca",
   "metadata": {
    "scrolled": true
   },
   "outputs": [],
   "source": [
    "from torchvision.models import resnet50"
   ]
  },
  {
   "cell_type": "code",
   "execution_count": null,
   "id": "19824791",
   "metadata": {
    "scrolled": true
   },
   "outputs": [],
   "source": [
    "from torchvision.models.detection import ssdlite320_mobilenet_v3_large"
   ]
  },
  {
   "cell_type": "code",
   "execution_count": null,
   "id": "6b891431",
   "metadata": {
    "scrolled": true
   },
   "outputs": [],
   "source": [
    "\n"
   ]
  },
  {
   "cell_type": "markdown",
   "id": "d089aad7",
   "metadata": {
    "scrolled": true
   },
   "source": [
    "def create_model_ssd():\n",
    "    model = ssdlite320_mobilenet_v3_large(num_classes=12)\n",
    "    print(model)\n",
    "    return model"
   ]
  },
  {
   "cell_type": "markdown",
   "id": "3728017c",
   "metadata": {
    "scrolled": true
   },
   "source": [
    "\n",
    "def create_model_faster_rcnn(num_classes):\n",
    "    # Load a pre-trained  R-CNN model \n",
    "    model = torchvision.models.detection.fasterrcnn_resnet50_fpn(weights=\"DEFAULT\")\n",
    "    for p in model.parameters():\n",
    "        p.requires_grad=False\n",
    "        \n",
    "    in_features = model.roi_heads.box_predictor.cls_score.in_features\n",
    "    \n",
    "    model.roi_heads.box_predictor = FastRCNNPredictor(in_features, num_classes)\n",
    "    \n",
    "    return model\n",
    "\n"
   ]
  },
  {
   "cell_type": "markdown",
   "id": "f26efb4a",
   "metadata": {
    "scrolled": true
   },
   "source": [
    "model = create_model_faster_rcnn(12).to(device)"
   ]
  },
  {
   "cell_type": "markdown",
   "id": "8816698b",
   "metadata": {
    "scrolled": false
   },
   "source": [
    "model.train()"
   ]
  },
  {
   "cell_type": "markdown",
   "id": "31db1f62",
   "metadata": {
    "scrolled": true
   },
   "source": [
    "import time\n",
    "from tqdm import tqdm\n",
    "def train_one_epoch(model, train_loader, optimizer):\n",
    "    total_loss=0\n",
    "    n=0\n",
    "    prev_time = time.time()\n",
    "    for data, target in tqdm(train_loader):\n",
    "        optimizer.zero_grad()\n",
    "        data = torch.as_tensor(np.array(data),dtype=torch.float32).to(device)\n",
    "        target = [{k: v.to(device) for k, v in t.items()} for t in target]\n",
    "        loss_dict = model(data, target)\n",
    "\n",
    "        losses = sum(loss for loss in loss_dict.values())\n",
    "\n",
    "        total_loss+=losses.item()\n",
    "        losses.backward()\n",
    "        optimizer.step()\n",
    "        if(n % 20 == 0):\n",
    "            print('loss', total_loss/(n+1))\n",
    "            prev_time = time.time()\n",
    "        n+=1\n",
    "        del data, target\n",
    "        #model = model.to(torch.device('cpu'))\n",
    "        gc.collect()\n",
    "        torch.cuda.empty_cache()\n",
    "        \n",
    "        #model = model.to(device)\n",
    "    \n",
    "    print(total_loss/n,'a')"
   ]
  },
  {
   "cell_type": "code",
   "execution_count": null,
   "id": "ab34c249",
   "metadata": {
    "scrolled": true
   },
   "outputs": [],
   "source": []
  },
  {
   "cell_type": "markdown",
   "id": "1768f19a",
   "metadata": {
    "scrolled": true
   },
   "source": [
    "num_epoch = 5\n",
    "params = [p for p in model.parameters() if p.requires_grad]\n",
    "optimizer = torch.optim.Adam(params, lr=0.001, weight_decay=0.0003)\n",
    "\n",
    "lr_scheduler = torch.optim.lr_scheduler.StepLR(optimizer, step_size=3, gamma=0.1)\n",
    "model = model.to(device)\n"
   ]
  },
  {
   "cell_type": "markdown",
   "id": "cfb8d189",
   "metadata": {
    "scrolled": false
   },
   "source": [
    "print(len(params))\n",
    "print(len(list(model.parameters())))"
   ]
  },
  {
   "cell_type": "markdown",
   "id": "a39d38a6",
   "metadata": {
    "scrolled": false
   },
   "source": [
    "\n",
    "for epoch in range(num_epoch):\n",
    "    train_one_epoch(model,train_loader,optimizer)\n",
    "    lr_scheduler.step()"
   ]
  },
  {
   "cell_type": "code",
   "execution_count": null,
   "id": "50f34d94",
   "metadata": {
    "scrolled": true
   },
   "outputs": [],
   "source": [
    "model = None"
   ]
  },
  {
   "cell_type": "code",
   "execution_count": null,
   "id": "e69b85be",
   "metadata": {
    "scrolled": true
   },
   "outputs": [],
   "source": [
    "with open('model.pkl', 'rb') as f:\n",
    "    model = pickle.load(f)"
   ]
  },
  {
   "cell_type": "code",
   "execution_count": null,
   "id": "4e83dd2e",
   "metadata": {},
   "outputs": [],
   "source": [
    "def choose_model(which):\n",
    "    model = None\n",
    "    if which == 'cropped':\n",
    "        with open('model_trained_on_cropped.pkl', 'rb') as f:\n",
    "            model = pickle.load(f)\n",
    "            return model\n",
    "    else:\n",
    "        with open('model.pkl', 'rb') as f:\n",
    "            model = pickle.load(f)\n",
    "            return model"
   ]
  },
  {
   "cell_type": "code",
   "execution_count": null,
   "id": "6ddf9595",
   "metadata": {
    "scrolled": true
   },
   "outputs": [],
   "source": [
    "model.eval()"
   ]
  },
  {
   "cell_type": "code",
   "execution_count": null,
   "id": "cef9aeee",
   "metadata": {
    "scrolled": true
   },
   "outputs": [],
   "source": [
    "\n",
    "gc.collect()\n",
    "\n",
    "torch.cuda.empty_cache()"
   ]
  },
  {
   "cell_type": "markdown",
   "id": "ff1aaae2",
   "metadata": {},
   "source": [
    "from GPUtil import showUtilization as gpu_usage\n",
    "from numba import cuda\n",
    "\n",
    "def free_gpu_cache():\n",
    "    print(\"Initial GPU Usage\")\n",
    "    gpu_usage()                             \n",
    "\n",
    "    torch.cuda.empty_cache()\n",
    "\n",
    "    #cuda.select_device(0)\n",
    "    #cuda.close()\n",
    "    #cuda.select_device(0)\n",
    "\n",
    "    print(\"GPU Usage after emptying the cache\")\n",
    "    gpu_usage()\n",
    "\n",
    "free_gpu_cache()    "
   ]
  },
  {
   "cell_type": "code",
   "execution_count": null,
   "id": "c68b71c8",
   "metadata": {
    "scrolled": true
   },
   "outputs": [],
   "source": [
    "def box_iou_batch(boxes_a: np.ndarray, boxes_b: np.ndarray) -> np.ndarray:\n",
    "\n",
    "    def box_area(box):\n",
    "        return (box[2] - box[0]) * (box[3] - box[1])\n",
    "\n",
    "    area_a = box_area(boxes_a.T)\n",
    "    area_b = box_area(boxes_b.T)\n",
    "\n",
    "    top_left = np.maximum(boxes_a[:, None, :2], boxes_b[:, :2])\n",
    "    bottom_right = np.minimum(boxes_a[:, None, 2:], boxes_b[:, 2:])\n",
    "\n",
    "    area_inter = np.prod(\n",
    "    \tnp.clip(bottom_right - top_left, a_min=0, a_max=None), 2)\n",
    "        \n",
    "    return area_inter / (area_a[:, None] + area_b - area_inter)"
   ]
  },
  {
   "cell_type": "code",
   "execution_count": null,
   "id": "b45f08de",
   "metadata": {
    "scrolled": true
   },
   "outputs": [],
   "source": [
    "def non_max_suppression(predictions, iou_threshold: float = 0.9) -> np.ndarray:\n",
    "    #print(predictions)\n",
    "    predictions = torch.cat((predictions['boxes'] , predictions['scores'].unsqueeze(dim=1),\\\n",
    "                             predictions['labels'].unsqueeze(dim=1)),dim=1) .detach().cpu().numpy()\n",
    "    \n",
    "    \n",
    "    sort_index = np.flip(predictions[:, 4].argsort())\n",
    "    \n",
    "    rows,columns = predictions.shape\n",
    "    \n",
    "    predictions = predictions[sort_index]\n",
    "\n",
    "    boxes = predictions[:, :4]\n",
    "    categories = predictions[:, 5]\n",
    "    ious = box_iou_batch(boxes, boxes)\n",
    "    ious = ious - np.eye(rows)\n",
    "\n",
    "    keep = np.ones(rows, dtype=bool)\n",
    "\n",
    "    for index, (iou, category) in enumerate(zip(ious, categories)):\n",
    "        if not keep[index]:\n",
    "            continue\n",
    "\n",
    "        condition = (iou > iou_threshold) & (categories == category)\n",
    "        keep = keep & ~condition\n",
    "\n",
    "    return predictions[keep[sort_index.argsort()]]"
   ]
  },
  {
   "cell_type": "code",
   "execution_count": null,
   "id": "91b20167",
   "metadata": {
    "scrolled": true
   },
   "outputs": [],
   "source": [
    "model.eval()\n"
   ]
  },
  {
   "cell_type": "code",
   "execution_count": null,
   "id": "9f8403ae",
   "metadata": {
    "scrolled": true
   },
   "outputs": [],
   "source": [
    "\n",
    "import matplotlib.pyplot as plt\n",
    "import matplotlib.patches as patches\n",
    "\n",
    "CONFIDENCE_THRESHOLD = 0.3"
   ]
  },
  {
   "cell_type": "code",
   "execution_count": null,
   "id": "b190cf16",
   "metadata": {
    "scrolled": true
   },
   "outputs": [],
   "source": [
    "labels_map = ['Background', 'Pedestrian', 'People', 'Bycicle', 'Car', 'Van', 'Truck',\n",
    "                'Tricycle', 'Awning-tricycle', 'Bus', 'Motor', 'Others']\n",
    "def draw_bounding_boxes(img, boxes,labels,scores, ax):   # image - tensor, others - numpy\n",
    "    \n",
    "    ax.imshow(img.detach().cpu().numpy().transpose(1,2,0))\n",
    "    ax.set_title('title')\n",
    "    threshold = CONFIDENCE_THRESHOLD\n",
    "    for box,label,score in zip(boxes,labels.astype(np.uint8),scores):\n",
    "        #print(label)\n",
    "        if(score < threshold):\n",
    "            continue\n",
    "        x1, y1, x2, y2 = box\n",
    "        width = x2 - x1\n",
    "        height = y2 - y1\n",
    "        rect = patches.Rectangle((x1, y1), width, height, linewidth=1, edgecolor='r', facecolor='none')\n",
    "        ax.add_patch(rect)\n",
    "        ax.text(\n",
    "                x1,\n",
    "                y1,\n",
    "                f\"{labels_map[label]}: {(np.round(score*100,1))}%\",\n",
    "                verticalalignment='top',\n",
    "                color='white',\n",
    "                fontsize=8,\n",
    "                bbox={'facecolor': 'red', 'alpha': 0.7, 'pad': 1}\n",
    "            )\n",
    "    #plt.show()\n",
    "    return ax"
   ]
  },
  {
   "cell_type": "code",
   "execution_count": null,
   "id": "bd612a23",
   "metadata": {
    "scrolled": true
   },
   "outputs": [],
   "source": [
    "from torchvision.ops import nms\n",
    "\n",
    "def non_max_suppression_git(preds, iou_threshold=0.7, score_threshold=0.3):\n",
    "    \n",
    "    boxes = preds['boxes']\n",
    "    scores = preds['scores']\n",
    "    labels = preds['labels']\n",
    "\n",
    "    # Filter out predictions below the score_threshold\n",
    "    keep_idx = scores > score_threshold\n",
    "    boxes = boxes[keep_idx]\n",
    "    scores = scores[keep_idx]\n",
    "    labels = labels[keep_idx]\n",
    "\n",
    "    # Perform NMS and get the indices of the remaining predictions\n",
    "    keep_indices = nms(boxes, scores, iou_threshold)\n",
    "\n",
    "    # Filter out the predictions using the keep_indices\n",
    "    nms_boxes = boxes[keep_indices]\n",
    "    nms_scores = scores[keep_indices]\n",
    "    nms_labels = labels[keep_indices]\n",
    "\n",
    "    # Create a dictionary containing the filtered predictions\n",
    "    nms_preds = {\n",
    "        'boxes': nms_boxes,\n",
    "        'scores': nms_scores,\n",
    "        'labels': nms_labels\n",
    "    }\n",
    "\n",
    "    return nms_preds\n"
   ]
  },
  {
   "cell_type": "markdown",
   "id": "95b6e894",
   "metadata": {},
   "source": [
    "image = cv2.imread('D:\\\\VisDroneDataset\\\\test\\\\images\\\\0000009_01339_d_0000005.jpg')\n",
    "image  =cv2.cvtColor(image,cv2.COLOR_BGR2RGB)\n",
    "image = cv2.resize(image,(480,480),interpolation = cv2.INTER_AREA)\n",
    "image = image.transpose(2,0,1)\n",
    "\n",
    "image = torch.as_tensor(image, dtype=torch.float32).unsqueeze(dim=0).to(device)"
   ]
  },
  {
   "cell_type": "code",
   "execution_count": null,
   "id": "69799d2c",
   "metadata": {
    "scrolled": true
   },
   "outputs": [],
   "source": [
    "os.environ['KMP_DUPLICATE_LIB_OK'] = 'True'"
   ]
  },
  {
   "cell_type": "code",
   "execution_count": null,
   "id": "ce24a985",
   "metadata": {
    "scrolled": true
   },
   "outputs": [],
   "source": [
    "def draw_predictions(imgs, preds, mode, i):#preds - list of dictionaries of tensors\n",
    "    fig, ax = plt.subplots(1,len(imgs), figsize=(40,40))\n",
    "    for idx,(img,ann) in enumerate(zip(imgs, preds)):\n",
    "        #print(ann)\n",
    "        annotations_new = []\n",
    "        annotations_new.append(torch.cat((ann['boxes'] ,\\\n",
    "                                           (ann['scores']).unsqueeze(dim=1) if mode=='pred' else torch.ones(len(ann['boxes'])).\\\n",
    "                                          unsqueeze(dim=1),\\\n",
    "                                           ann['labels'].unsqueeze(dim=1)),dim=1).detach().cpu().numpy())\n",
    "        ann = np.array(annotations_new[0])\n",
    "        #print(ann)\n",
    "        ann = ann[ann[:,4] > CONFIDENCE_THRESHOLD,:]\n",
    "        #print(ann)\n",
    "        \n",
    "        draw_bounding_boxes(img,ann[:,0:4],ann[:,5],ann[:,4],ax[idx] if len(imgs) != 1 else ax)\n",
    "        \n",
    "    if(i!=-1):\n",
    "        fig.savefig(f'D:\\\\Drone-Object-Detection\\\\Results\\\\Images\\\\img{i}.png')\n",
    "        \n",
    "    plt.show()"
   ]
  },
  {
   "cell_type": "code",
   "execution_count": null,
   "id": "770e8c02",
   "metadata": {
    "scrolled": true
   },
   "outputs": [],
   "source": [
    "from torchmetrics.detection import MeanAveragePrecision"
   ]
  },
  {
   "cell_type": "code",
   "execution_count": null,
   "id": "8afdafa4",
   "metadata": {
    "scrolled": true
   },
   "outputs": [],
   "source": [
    "def replace_cuda_with_cpu(data):\n",
    "    if isinstance(data, torch.Tensor):\n",
    "        return data.cpu()\n",
    "    elif isinstance(data, dict):\n",
    "        return {key: replace_cuda_with_cpu(value) for key, value in data.items()}\n",
    "    elif isinstance(data, list):\n",
    "        return [replace_cuda_with_cpu(item) for item in data]\n",
    "    else:\n",
    "        return data"
   ]
  },
  {
   "cell_type": "code",
   "execution_count": null,
   "id": "0045a2a1",
   "metadata": {
    "scrolled": true
   },
   "outputs": [],
   "source": [
    "def dict_to_cpu(preds):\n",
    "    new_l = []\n",
    "    for dic in preds:\n",
    "        new_l.append(replace_cuda_with_cpu(dic))\n",
    "        \n",
    "    #print(new_l)\n",
    "    return new_l\n"
   ]
  },
  {
   "cell_type": "code",
   "execution_count": null,
   "id": "99ccde1f",
   "metadata": {
    "scrolled": true
   },
   "outputs": [],
   "source": [
    "def from_dict_to_arr(dictionary, data = 'target'):\n",
    "    annotations_new = []\n",
    "    dictionary = dict_to_cpu(dictionary)\n",
    "    \n",
    "    for ann in dictionary:\n",
    "        \n",
    "        annotations_new+=(torch.cat((ann['boxes'] ,\\\n",
    "                                           torch.ones(len(ann['boxes'])).unsqueeze(dim=1) if data == 'target' else \\\n",
    "                                     ann['scores'].unsqueeze(dim=1),\\\n",
    "                                           ann['labels'].unsqueeze(dim=1)),dim=1))\n",
    "    \n",
    "    \n",
    "    return annotations_new"
   ]
  },
  {
   "cell_type": "code",
   "execution_count": null,
   "id": "85b0c381",
   "metadata": {
    "scrolled": true
   },
   "outputs": [],
   "source": [
    "def calc_mAP(preds,target):\n",
    "    metric = MeanAveragePrecision(iou_type=\"bbox\")\n",
    "    metric.update(preds, target)\n",
    "    \n",
    "    return metric.compute()\n"
   ]
  },
  {
   "cell_type": "code",
   "execution_count": null,
   "id": "2c4d0128",
   "metadata": {
    "scrolled": true
   },
   "outputs": [],
   "source": [
    "def make_all_numpy(obj):\n",
    "    if isinstance(obj, torch.Tensor):\n",
    "        return obj.numpy()\n",
    "    elif isinstance(obj, (list, tuple)):\n",
    "        return [make_all_numpy(item) for item in obj]\n",
    "    elif isinstance(obj, dict):\n",
    "        return {key: make_all_numpy(value) for key, value in obj.items()}\n",
    "    else:\n",
    "        return obj"
   ]
  },
  {
   "cell_type": "code",
   "execution_count": null,
   "id": "ae934dca",
   "metadata": {
    "scrolled": true
   },
   "outputs": [],
   "source": [
    "#detections (Array[N, 6]), x1, y1, x2, y2, conf, class\n",
    "# labels (Array[M, 5]), class, x1, y1, x2, y2\n",
    "def prepare_for_conf_matrx(pred,annot):\n",
    "    pred = from_dict_to_arr(dict_to_cpu(pred),'my_pred')\n",
    "    annot = from_dict_to_arr(dict_to_cpu(annot),'target')\n",
    "    \n",
    "    pred = make_all_numpy(pred)\n",
    "    annot = make_all_numpy(annot)\n",
    "    \n",
    "    permutation = [5,0,1,2,3,4]\n",
    "    \n",
    "    pred, annot = np.array(pred), np.delete(np.array(annot,dtype=np.int16)[:,permutation] , 5,1)\n",
    "    #print(pred)\n",
    "    pred[:,0] = pred[:,0].astype(np.int16)\n",
    "    pred[:,1] = pred[:,1].astype(np.int16)\n",
    "    pred[:,2] = pred[:,2].astype(np.int16)\n",
    "    pred[:,3] = pred[:,3].astype(np.int16)\n",
    "    pred[:,5] = pred[:,5].astype(np.int16)\n",
    "    #pred[:,[0,1,2,3,5]] = np.array(pred[:,[0,1,2,3,5]],dtype=np.uint8)\n",
    "    \n",
    "    #print(pred)\n",
    "    return pred,annot"
   ]
  },
  {
   "cell_type": "code",
   "execution_count": null,
   "id": "ed6fe260",
   "metadata": {
    "scrolled": true
   },
   "outputs": [],
   "source": [
    "\n",
    "from sklearn.metrics import confusion_matrix\n",
    "\n",
    "def build_confusion_matrix(pred_boxes, gt_boxes):\n",
    "    \n",
    "    pred_labels = pred_boxes[:, -1]\n",
    "    gt_labels = gt_boxes[:, 0]\n",
    "\n",
    "    \n",
    "    pred_labels = pred_labels.astype(np.int16)\n",
    "    gt_labels = gt_labels.astype(np.int16)\n",
    "\n",
    "    \n",
    "    conf_matrix = confusion_matrix(gt_labels, pred_labels)\n",
    "\n",
    "    return conf_matrix\n"
   ]
  },
  {
   "cell_type": "code",
   "execution_count": null,
   "id": "c0c11833",
   "metadata": {
    "scrolled": true
   },
   "outputs": [],
   "source": [
    "import seaborn as sns\n",
    "%matplotlib inline\n",
    "\n",
    "from torchvision import ops"
   ]
  },
  {
   "cell_type": "code",
   "execution_count": null,
   "id": "54b8b410",
   "metadata": {
    "scrolled": true
   },
   "outputs": [],
   "source": [
    "import numpy as np\n",
    "def calculate_iou_matrix(boxesA, boxesB):\n",
    "\n",
    "    # Convert numpy arrays to torch tensors\n",
    "    boxesA_torch = torch.tensor(boxesA, dtype=torch.float32)\n",
    "    boxesB_torch = torch.tensor(boxesB, dtype=torch.float32)\n",
    "\n",
    "    # Use torchvision.ops.box_iou to calculate IoU matrix\n",
    "    iou_matrix_torch = torchvision.ops.box_iou(boxesA_torch, boxesB_torch)\n",
    "\n",
    "    # Convert the torch tensor back to a numpy array\n",
    "    iou_matrix = iou_matrix_torch.numpy()\n",
    "\n",
    "    return iou_matrix\n",
    "\n"
   ]
  },
  {
   "cell_type": "code",
   "execution_count": null,
   "id": "10d362a5",
   "metadata": {
    "scrolled": true
   },
   "outputs": [],
   "source": [
    "\n",
    "\n",
    "class ConfusionMatrix:\n",
    "    def __init__(self, num_classes: int, CONF_THRESHOLD=0.3, IOU_THRESHOLD=0.5):\n",
    "        self.matrix = np.zeros((num_classes + 1, num_classes + 1))\n",
    "        self.num_classes = num_classes\n",
    "        self.CONF_THRESHOLD = CONF_THRESHOLD\n",
    "        self.IOU_THRESHOLD = IOU_THRESHOLD\n",
    "\n",
    "    def process_batch(self, detections, labels: np.ndarray):\n",
    "        \n",
    "        \n",
    "        gt_classes = labels[:, 0].astype(np.uint8)\n",
    "        try:\n",
    "            detections = detections[detections[:, 4] > self.CONF_THRESHOLD]\n",
    "        except IndexError or TypeError:\n",
    "            # detections are empty, end of process\n",
    "            for i, label in enumerate(labels):\n",
    "                gt_class = gt_classes[i]\n",
    "                self.matrix[self.num_classes, gt_class] += 1\n",
    "            return\n",
    "\n",
    "        detection_classes = detections[:, 5].astype(np.uint8)\n",
    "        #print(labels[:, 1:])\n",
    "        #print()\n",
    "        #print(detections[:, :4])\n",
    "        all_ious = calculate_iou_matrix(labels[:, 1:], detections[:, :4])\n",
    "        #print(detection_classes)\n",
    "        want_idx = np.where(all_ious > self.IOU_THRESHOLD)\n",
    "        #print(want_idx)\n",
    "        all_matches = [[want_idx[0][i], want_idx[1][i], all_ious[want_idx[0][i], want_idx[1][i]]]\n",
    "                       for i in range(want_idx[0].shape[0])]\n",
    "\n",
    "        all_matches = np.array(all_matches)\n",
    "        \n",
    "        #print(all_matches)\n",
    "        if all_matches.shape[0] > 0:  # if there is match\n",
    "            all_matches = all_matches[all_matches[:, 2].argsort()[::-1]]\n",
    "            all_matches = all_matches[np.unique(all_matches[:, 1], return_index=True)[1]]\n",
    "            all_matches = all_matches[all_matches[:, 2].argsort()[::-1]]\n",
    "            all_matches = all_matches[np.unique(all_matches[:, 0], return_index=True)[1]]\n",
    "\n",
    "            \n",
    "        #print(all_matches)\n",
    "        #print(len(all_matches))\n",
    "        for i, label in enumerate(labels):\n",
    "            gt_class = gt_classes[i]\n",
    "            \n",
    "            if all_matches.shape[0] > 0 and all_matches[all_matches[:, 0] == i].shape[0] == 1:#==1?\n",
    "                \n",
    "                detection_class = detection_classes[int(all_matches[all_matches[:, 0] == i, 1][0])]\n",
    "                self.matrix[detection_class, gt_class] += 1\n",
    "            else:\n",
    "                \n",
    "                self.matrix[self.num_classes, gt_class] += 1\n",
    "\n",
    "        for i, detection in enumerate(detections):\n",
    "            if not all_matches.shape[0] or ( all_matches.shape[0] and all_matches[all_matches[:, 1] == i].shape[0] == 0 ):\n",
    "                detection_class = detection_classes[i]\n",
    "                self.matrix[detection_class, self.num_classes] += 1\n",
    "\n",
    "    def return_matrix(self):\n",
    "        return self.matrix\n",
    "\n",
    "    def print_matrix(self):\n",
    "        for i in range(self.num_classes + 1):\n",
    "            print(' '.join(map(str, self.matrix[i])))\n",
    "            \n",
    "            \n",
    "#SMTH wrong woth all matches"
   ]
  },
  {
   "cell_type": "code",
   "execution_count": null,
   "id": "6dd6f27c",
   "metadata": {
    "scrolled": true
   },
   "outputs": [],
   "source": [
    "import sys\n",
    "import numpy"
   ]
  },
  {
   "cell_type": "code",
   "execution_count": null,
   "id": "750a0dfb",
   "metadata": {},
   "outputs": [],
   "source": [
    "def draw_heatmap(conf_matr, ax, cen=None):\n",
    "    \n",
    "    hm = sns.heatmap(np.array(conf_matr.return_matrix()), center =cen,cmap=\"crest\",  annot=True, ax=ax,fmt='g')\n",
    "    hm.set_ylabel('Predicted')\n",
    "    hm.set_xlabel('True')\n",
    "    hm.set_ylabel('Predicted')\n",
    "    hm.set_xlabel('True')\n",
    "\n",
    "\n",
    "    my_lm = labels_map.copy()\n",
    "    my_lm += ['None']\n",
    "    tickvalues = range(0,len(my_lm))\n",
    "    hm.set_xticks(ticks=tickvalues, labels=my_lm, rotation = 'vertical')\n",
    "    hm.set_yticks(ticks=tickvalues, labels=my_lm, rotation = 'horizontal')\n",
    "    return hm\n",
    "    \n",
    "    \n"
   ]
  },
  {
   "cell_type": "code",
   "execution_count": null,
   "id": "9a3f1fd3",
   "metadata": {
    "scrolled": true
   },
   "outputs": [],
   "source": [
    "def count_avg_map_and_conf_matr(map_file, loader,  value_to_break = 20):\n",
    "    conf_matr = ConfusionMatrix(12,CONF_THRESHOLD = CONFIDENCE_THRESHOLD, IOU_THRESHOLD = 0.5)\n",
    "    \n",
    "    c = 0\n",
    "    total_map = 0\n",
    "    total_map_50 = 0\n",
    "    total_map_75 = 0\n",
    "    total_map_small = 0\n",
    "    total_map_medium = 0\n",
    "    total_map_large = 0\n",
    "    \n",
    "    c_total_map_50 = 0\n",
    "    c_total_map_75 = 0\n",
    "    c_total_map_small = 0\n",
    "    c_total_map_medium = 0\n",
    "    c_total_map_large = 0\n",
    "    \n",
    "    total_preds=0\n",
    "    for i, (batch_imgs, annotations) in enumerate(loader):\n",
    "        batch_imgs = [torch.from_numpy(img).float().to(device) for img in batch_imgs]#tensor\n",
    "        with torch.no_grad():\n",
    "            preds = model(batch_imgs)#tensor\n",
    "        preds = replace_cuda_with_cpu(preds) \n",
    "\n",
    "        nms_preds = []\n",
    "        for pred in preds:\n",
    "            nms_pred = non_max_suppression_git(pred)\n",
    "            nms_preds.append(nms_pred)\n",
    "        #print(nms_preds)\n",
    "        map_dict = calc_mAP(nms_preds, annotations)\n",
    "       \n",
    "        if(map_dict['map'].item() > 0):\n",
    "            total_map += map_dict['map'].item()\n",
    "            c+=1\n",
    "            \n",
    "        if(map_dict['map_50'].item() > 0):\n",
    "            total_map_50 += map_dict['map_50'].item()\n",
    "            c_total_map_50+=1\n",
    "            \n",
    "        if(map_dict['map_75'].item() > 0):\n",
    "            total_map_75 += map_dict['map_75'].item()\n",
    "            c_total_map_75+=1\n",
    "            \n",
    "        if(map_dict['map_small'].item() > 0):\n",
    "            total_map_small += map_dict['map_small'].item()\n",
    "            c_total_map_small+=1\n",
    "            \n",
    "        if(map_dict['map_medium'].item() > 0):\n",
    "            total_map_medium += map_dict['map_medium'].item()\n",
    "            c_total_map_medium+=1\n",
    "            \n",
    "        if(map_dict['map_large'].item() > 0):\n",
    "            total_map_large += map_dict['map_large'].item()\n",
    "            c_total_map_large+=1\n",
    "        \n",
    "        \n",
    "        for pred in nms_preds:\n",
    "            preds_ind = pred['scores'] > CONFIDENCE_THRESHOLD\n",
    "            pred = pred['labels'][preds_ind]\n",
    "            total_preds+= sum(pred == 5)\n",
    "\n",
    "        \n",
    "            print(c)\n",
    "        a,b = prepare_for_conf_matrx(nms_preds,annotations)\n",
    "\n",
    "\n",
    "        conf_matr.process_batch(a,b)\n",
    "\n",
    "\n",
    "        if(i == value_to_break):\n",
    "            break\n",
    "\n",
    "            \n",
    "    \n",
    "    #print(total_preds)\n",
    "    #map_file.write('avarage map:',total_map / c)\n",
    "    \n",
    "    maps = \"\"\n",
    "    maps+= ('avgerage map 50-95: '+str(total_map/c) + '\\n' + \\\n",
    "            'avgerage map 50: '+str(total_map_50/c_total_map_50) + '\\n' + \\\n",
    "            'avgerage map 75: '+str(total_map_75/c_total_map_75) + '\\n' + \\\n",
    "            'avgerage map small: '+str(total_map_small/c_total_map_small) + '\\n' + \\\n",
    "            'avgerage map medium: '+str(total_map_medium/c_total_map_medium) + '\\n' + \\\n",
    "            'avgerage map large: '+str(total_map_large/c_total_map_large if c_total_map_large != 0 else -1) + '\\n')\n",
    "            \n",
    "            \n",
    "    \n",
    "    \n",
    "    fig, ax = plt.subplots(figsize=(10,10))\n",
    "    \n",
    "    hm = draw_heatmap(conf_matr,ax)\n",
    "    \n",
    "    print(maps)\n",
    "    \n",
    "    map_file.write(maps)\n",
    "    fig.savefig(f'D:\\\\Drone-Object-Detection\\\\Results\\\\conf_matrix.png')\n",
    "    #plt.show()\n",
    "\n",
    "#ОШИБКА В ТИПАХ БЫЛА(np.uint8 неправильно)"
   ]
  },
  {
   "cell_type": "code",
   "execution_count": null,
   "id": "8ab06922",
   "metadata": {},
   "outputs": [],
   "source": [
    "model = choose_model('not').to(device)\n",
    "model.eval()\n"
   ]
  },
  {
   "cell_type": "code",
   "execution_count": null,
   "id": "e20eac2a",
   "metadata": {},
   "outputs": [],
   "source": [
    "map_file = open('Results\\\\mAPs\\\\file.txt','w')\n",
    "map_file.close()\n",
    "map_file = open('Results\\\\mAPs\\\\file.txt','a')\n",
    "model = model.to(device)"
   ]
  },
  {
   "cell_type": "code",
   "execution_count": null,
   "id": "4d2d18ba",
   "metadata": {},
   "outputs": [],
   "source": [
    "val_loader_for_map = DataLoader(val_dataset, batch_size=1, shuffle=True,collate_fn=collate_fn)"
   ]
  },
  {
   "cell_type": "code",
   "execution_count": null,
   "id": "27b7db64",
   "metadata": {},
   "outputs": [],
   "source": []
  },
  {
   "cell_type": "code",
   "execution_count": null,
   "id": "9cac3e54",
   "metadata": {
    "scrolled": false
   },
   "outputs": [],
   "source": [
    "count_avg_map_and_conf_matr(map_file=map_file, loader=val_loader_for_map, value_to_break=100) # for a random data from loader dataset"
   ]
  },
  {
   "cell_type": "code",
   "execution_count": null,
   "id": "eb0d88e4",
   "metadata": {
    "scrolled": true
   },
   "outputs": [],
   "source": [
    "map_file.close()"
   ]
  },
  {
   "cell_type": "code",
   "execution_count": null,
   "id": "ea2521fc",
   "metadata": {
    "scrolled": true
   },
   "outputs": [],
   "source": [
    "def draw_3_preds():\n",
    "    \n",
    "    i1 = val_dataset.__getitem__(54)\n",
    "    i2 = val_dataset.__getitem__(315)\n",
    "    i3 = val_dataset.__getitem__(376)\n",
    "\n",
    "    batch_imgs = np.stack((i1[0],i2[0],i3[0]))\n",
    "\n",
    "    l=[]\n",
    "    l.append(i1[1])\n",
    "    l.append(i2[1])\n",
    "    l.append(i3[1])\n",
    "\n",
    "    annotations = l\n",
    "    \n",
    "    \n",
    "    batch_imgs = [torch.from_numpy(img).float().to(device) for img in batch_imgs]#tensor\n",
    "    with torch.no_grad():\n",
    "        preds = model(batch_imgs)#tensor\n",
    "    preds = replace_cuda_with_cpu(preds) \n",
    "    print(preds)\n",
    "\n",
    "\n",
    "\n",
    "    nms_preds = []\n",
    "    for pred in preds:\n",
    "        nms_pred = non_max_suppression_git(pred)\n",
    "        nms_preds.append(nms_pred)\n",
    "\n",
    "    draw_predictions(batch_imgs,nms_preds,'pred',1)#list of dictionaries of tensors\n",
    "    draw_predictions(batch_imgs,annotations,'tar',-1)\n",
    "\n",
    "\n",
    "    #НЕ МЭТЧИТ!!!"
   ]
  },
  {
   "cell_type": "code",
   "execution_count": null,
   "id": "3d27b105",
   "metadata": {
    "scrolled": true
   },
   "outputs": [],
   "source": [
    "draw_3_preds()"
   ]
  }
 ],
 "metadata": {
  "kernelspec": {
   "display_name": "Python 3 (ipykernel)",
   "language": "python",
   "name": "python3"
  },
  "language_info": {
   "codemirror_mode": {
    "name": "ipython",
    "version": 3
   },
   "file_extension": ".py",
   "mimetype": "text/x-python",
   "name": "python",
   "nbconvert_exporter": "python",
   "pygments_lexer": "ipython3",
   "version": "3.11.4"
  }
 },
 "nbformat": 4,
 "nbformat_minor": 5
}
