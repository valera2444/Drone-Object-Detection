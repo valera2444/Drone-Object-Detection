{
 "cells": [
  {
   "cell_type": "code",
   "execution_count": null,
   "id": "71ebeaf9",
   "metadata": {},
   "outputs": [],
   "source": [
    "import pandas as pd\n",
    "import numpy as np\n",
    "import torch\n",
    "import os\n",
    "import gc\n"
   ]
  },
  {
   "cell_type": "code",
   "execution_count": null,
   "id": "8d60525c",
   "metadata": {},
   "outputs": [],
   "source": [
    "import pickle"
   ]
  },
  {
   "cell_type": "code",
   "execution_count": null,
   "id": "273c56c6",
   "metadata": {},
   "outputs": [],
   "source": [
    "from torch.utils.data import DataLoader\n",
    "from torch.utils.data import Dataset"
   ]
  },
  {
   "cell_type": "code",
   "execution_count": null,
   "id": "6a0fd7a7",
   "metadata": {},
   "outputs": [],
   "source": [
    "import cv2"
   ]
  },
  {
   "cell_type": "code",
   "execution_count": null,
   "id": "dee6c85c",
   "metadata": {},
   "outputs": [],
   "source": [
    "\n",
    "import torchvision.models.detection as tmd\n",
    "from torchvision.models.detection.faster_rcnn import FastRCNNPredictor as FRP\n",
    "import inspect\n",
    "import torchvision\n",
    "#converting the customised rcnn model\n",
    "from torchvision.models.detection.faster_rcnn import FastRCNNPredictor\n"
   ]
  },
  {
   "cell_type": "code",
   "execution_count": null,
   "id": "45a47476",
   "metadata": {},
   "outputs": [],
   "source": [
    "root_dir = 'D:\\\\Drone-Object-Detection\\\\VisDroneDataset\\\\'\n",
    "test_dir = 'test\\\\'\n",
    "train_dir = 'train\\\\'\n",
    "val_dir = 'validation\\\\'"
   ]
  },
  {
   "cell_type": "code",
   "execution_count": null,
   "id": "6c89d2c9",
   "metadata": {},
   "outputs": [],
   "source": [
    "def split_image_with_asp_ratio(image):\n",
    "    print(image.shape)"
   ]
  },
  {
   "cell_type": "code",
   "execution_count": null,
   "id": "73763507",
   "metadata": {},
   "outputs": [],
   "source": [
    "class VisDroneDataset(Dataset):\n",
    "    def __init__(self, path, img_shape):\n",
    "        \n",
    "        self.root = path\n",
    "        self.width = img_shape[1]\n",
    "        self.height = img_shape[0]\n",
    "        self.images = os.listdir(path+'images\\\\')\n",
    "        self.annotations = os.listdir(path+'annotations\\\\')\n",
    "        self.length = len(self.images)\n",
    "        \n",
    "    def __len__(self):\n",
    "        return self.length\n",
    "    \n",
    "    def __getitem__(self, idx):\n",
    "        image = cv2.imread(self.root+'images\\\\'+self.images[idx])\n",
    "        #print(image.shape)\n",
    "        img_width = image.shape[1]\n",
    "        img_height = image.shape[0]     #right?\n",
    "        \n",
    "        image  =cv2.cvtColor(image,cv2.COLOR_BGR2RGB)\n",
    "        image = cv2.resize(image,(self.width,self.height),interpolation = cv2.INTER_AREA)\n",
    "        image = image.transpose(2,0,1)\n",
    "        image = (image/255.0)\n",
    "        \n",
    "        \n",
    "        #bbox_left, bbox_top, bbox_width, bbox_height, category = map(float, data[:5])\n",
    "        target = self.annotations[idx]    #*.txt file       \n",
    "        \n",
    "        boxes = []\n",
    "        labels = []\n",
    "        with open(self.root+'annotations\\\\'+target) as f:\n",
    "            for line in f:\n",
    "                data = line.split(',')#strip\n",
    "                #print(list(map(float, data[:5])))\n",
    "                box_left, box_top, box_width, box_height,smth, category = map(float, data[:6])\n",
    "                \n",
    "                box_width = 1 if box_width < 1 else box_width\n",
    "                box_height = 1 if box_height < 1 else box_height\n",
    "                \n",
    "                box_right = box_left + box_width\n",
    "                box_bottom = box_top + box_height\n",
    "                #rescale box            \n",
    "                box_left = (box_left/img_width) * self.width\n",
    "                box_right = (box_right/img_width) * self.width\n",
    "                box_top = (box_top/img_height) * self.height\n",
    "                box_bottom = (box_bottom/img_height) * self.height\n",
    "                boxes.append((box_left,box_top,box_right, box_bottom))\n",
    "#                 for b in boxes:\n",
    "#                     for bb in b:\n",
    "#                         if bb > 480 or bb < 0:\n",
    "#                             print(b,'\\n',bb)\n",
    "                labels.append(int(category))\n",
    "                \n",
    "        \n",
    "        boxes = torch.as_tensor(boxes, dtype=torch.float32)\n",
    "        #print(boxes)\n",
    "        labels = torch.as_tensor(labels, dtype=torch.int64)\n",
    "        target = {}\n",
    "        target['boxes'] = boxes\n",
    "        target['labels'] = labels\n",
    "        target['image_id'] = torch.tensor((idx))\n",
    "        \n",
    "        return image, target"
   ]
  },
  {
   "cell_type": "code",
   "execution_count": null,
   "id": "b9fcad35",
   "metadata": {},
   "outputs": [],
   "source": [
    "train_dataset = VisDroneDataset(root_dir+train_dir,(724,1224))\n",
    "val_dataset = VisDroneDataset(root_dir+val_dir,(724,1224))"
   ]
  },
  {
   "cell_type": "code",
   "execution_count": null,
   "id": "23293e93",
   "metadata": {},
   "outputs": [],
   "source": [
    "def collate_fn(batch):\n",
    "    images = []\n",
    "    targets = []\n",
    "\n",
    "    for img, target in batch:\n",
    "        images.append(img)\n",
    "        targets.append(target)\n",
    "\n",
    "    return (images, targets)\n"
   ]
  },
  {
   "cell_type": "code",
   "execution_count": null,
   "id": "56551681",
   "metadata": {},
   "outputs": [],
   "source": [
    "train_loader = DataLoader(train_dataset, batch_size=1, shuffle=True,collate_fn=collate_fn)\n",
    "val_loader = DataLoader(val_dataset, batch_size=1, shuffle=True,collate_fn=collate_fn)"
   ]
  },
  {
   "cell_type": "code",
   "execution_count": null,
   "id": "6e0b2948",
   "metadata": {},
   "outputs": [],
   "source": [
    "device = torch.device('cuda:0' if torch.cuda.is_available() else 'cpu')"
   ]
  },
  {
   "cell_type": "code",
   "execution_count": null,
   "id": "f502e7f5",
   "metadata": {},
   "outputs": [],
   "source": [
    "torch.hub.set_dir('D:\\\\torch_models')"
   ]
  },
  {
   "cell_type": "code",
   "execution_count": null,
   "id": "ef2d42ca",
   "metadata": {},
   "outputs": [],
   "source": []
  },
  {
   "cell_type": "code",
   "execution_count": null,
   "id": "19824791",
   "metadata": {},
   "outputs": [],
   "source": [
    "from torchvision.models.detection import ssdlite320_mobilenet_v3_large"
   ]
  },
  {
   "cell_type": "code",
   "execution_count": null,
   "id": "6b891431",
   "metadata": {},
   "outputs": [],
   "source": []
  },
  {
   "cell_type": "code",
   "execution_count": null,
   "id": "ef2cc1de",
   "metadata": {},
   "outputs": [],
   "source": [
    "def create_model_ssd():\n",
    "    model = ssdlite320_mobilenet_v3_large(num_classes=12)\n",
    "    print(model)\n",
    "    return model"
   ]
  },
  {
   "cell_type": "code",
   "execution_count": null,
   "id": "2c650c5c",
   "metadata": {},
   "outputs": [],
   "source": [
    "\n",
    "def create_model_faster_rcnn(num_classes):\n",
    "    # Load a pre-trained  R-CNN model \n",
    "    model = torchvision.models.detection.fasterrcnn_resnet50_fpn(weights=\"DEFAULT\")\n",
    "    for p in model.parameters():\n",
    "        p.requires_grad=False\n",
    "        \n",
    "    in_features = model.roi_heads.box_predictor.cls_score.in_features\n",
    "    \n",
    "    model.roi_heads.box_predictor = FastRCNNPredictor(in_features, num_classes)\n",
    "    \n",
    "    return model\n",
    "\n"
   ]
  },
  {
   "cell_type": "markdown",
   "id": "2f0ebad3",
   "metadata": {},
   "source": [
    "model = create_model_faster_rcnn(12).to(device)"
   ]
  },
  {
   "cell_type": "markdown",
   "id": "6ddf8a4c",
   "metadata": {
    "scrolled": true
   },
   "source": [
    "model.train()"
   ]
  },
  {
   "cell_type": "markdown",
   "id": "19cfb67c",
   "metadata": {},
   "source": [
    "import time\n",
    "from tqdm import tqdm\n",
    "def train_one_epoch(model, train_loader, optimizer):\n",
    "    total_loss=0\n",
    "    n=0\n",
    "    prev_time = time.time()\n",
    "    for data, target in tqdm(train_loader):\n",
    "        optimizer.zero_grad()\n",
    "        data = torch.as_tensor(np.array(data),dtype=torch.float32).to(device)\n",
    "        target = [{k: v.to(device) for k, v in t.items()} for t in target]\n",
    "        loss_dict = model(data, target)\n",
    "\n",
    "        losses = sum(loss for loss in loss_dict.values())\n",
    "\n",
    "        total_loss+=losses.item()\n",
    "        losses.backward()\n",
    "        optimizer.step()\n",
    "        if(n % 20 == 0):\n",
    "            print('loss', total_loss/(n+1))\n",
    "            prev_time = time.time()\n",
    "        n+=1\n",
    "        del data, target\n",
    "        #model = model.to(torch.device('cpu'))\n",
    "        gc.collect()\n",
    "        torch.cuda.empty_cache()\n",
    "        \n",
    "        #model = model.to(device)\n",
    "    \n",
    "    print(total_loss/n,'a')"
   ]
  },
  {
   "cell_type": "code",
   "execution_count": null,
   "id": "ab34c249",
   "metadata": {},
   "outputs": [],
   "source": []
  },
  {
   "cell_type": "markdown",
   "id": "1613f2a4",
   "metadata": {},
   "source": [
    "num_epoch = 5\n",
    "params = [p for p in model.parameters() if p.requires_grad]\n",
    "optimizer = torch.optim.SGD(params, lr=0.005, momentum=0.9, weight_decay=0.0005)\n",
    "\n",
    "lr_scheduler = torch.optim.lr_scheduler.StepLR(optimizer, step_size=3, gamma=0.1)\n",
    "model = model.to(device)\n"
   ]
  },
  {
   "cell_type": "markdown",
   "id": "cfb8d189",
   "metadata": {
    "scrolled": false
   },
   "source": [
    "print(len(params))\n",
    "print(len(list(model.parameters())))"
   ]
  },
  {
   "cell_type": "markdown",
   "id": "2ad044ea",
   "metadata": {
    "scrolled": true
   },
   "source": [
    "\n",
    "for epoch in range(num_epoch):\n",
    "    train_one_epoch(model,train_loader,optimizer)\n",
    "    lr_scheduler.step()"
   ]
  },
  {
   "cell_type": "code",
   "execution_count": null,
   "id": "50f34d94",
   "metadata": {},
   "outputs": [],
   "source": []
  },
  {
   "cell_type": "code",
   "execution_count": null,
   "id": "fe13e48c",
   "metadata": {},
   "outputs": [],
   "source": [
    "with open('model.pkl', 'rb') as f:\n",
    "    model = pickle.load(f)"
   ]
  },
  {
   "cell_type": "code",
   "execution_count": null,
   "id": "6ddf9595",
   "metadata": {},
   "outputs": [],
   "source": [
    "model.eval()"
   ]
  },
  {
   "cell_type": "code",
   "execution_count": null,
   "id": "cef9aeee",
   "metadata": {},
   "outputs": [],
   "source": [
    "\n",
    "gc.collect()\n",
    "\n",
    "torch.cuda.empty_cache()"
   ]
  },
  {
   "cell_type": "markdown",
   "id": "ff1aaae2",
   "metadata": {},
   "source": [
    "from GPUtil import showUtilization as gpu_usage\n",
    "from numba import cuda\n",
    "\n",
    "def free_gpu_cache():\n",
    "    print(\"Initial GPU Usage\")\n",
    "    gpu_usage()                             \n",
    "\n",
    "    torch.cuda.empty_cache()\n",
    "\n",
    "    #cuda.select_device(0)\n",
    "    #cuda.close()\n",
    "    #cuda.select_device(0)\n",
    "\n",
    "    print(\"GPU Usage after emptying the cache\")\n",
    "    gpu_usage()\n",
    "\n",
    "free_gpu_cache()    "
   ]
  },
  {
   "cell_type": "code",
   "execution_count": null,
   "id": "c68b71c8",
   "metadata": {},
   "outputs": [],
   "source": [
    "def box_iou_batch(boxes_a: np.ndarray, boxes_b: np.ndarray) -> np.ndarray:\n",
    "\n",
    "    def box_area(box):\n",
    "        return (box[2] - box[0]) * (box[3] - box[1])\n",
    "\n",
    "    area_a = box_area(boxes_a.T)\n",
    "    area_b = box_area(boxes_b.T)\n",
    "\n",
    "    top_left = np.maximum(boxes_a[:, None, :2], boxes_b[:, :2])\n",
    "    bottom_right = np.minimum(boxes_a[:, None, 2:], boxes_b[:, 2:])\n",
    "\n",
    "    area_inter = np.prod(\n",
    "    \tnp.clip(bottom_right - top_left, a_min=0, a_max=None), 2)\n",
    "        \n",
    "    return area_inter / (area_a[:, None] + area_b - area_inter)"
   ]
  },
  {
   "cell_type": "code",
   "execution_count": null,
   "id": "b45f08de",
   "metadata": {},
   "outputs": [],
   "source": [
    "def non_max_suppression(predictions, iou_threshold: float = 0.9) -> np.ndarray:\n",
    "    #print(predictions)\n",
    "    predictions = torch.cat((predictions['boxes'] , predictions['scores'].unsqueeze(dim=1),\\\n",
    "                             predictions['labels'].unsqueeze(dim=1)),dim=1) .detach().cpu().numpy()\n",
    "    \n",
    "    \n",
    "    sort_index = np.flip(predictions[:, 4].argsort())\n",
    "    \n",
    "    rows,columns = predictions.shape\n",
    "    \n",
    "    predictions = predictions[sort_index]\n",
    "\n",
    "    boxes = predictions[:, :4]\n",
    "    categories = predictions[:, 5]\n",
    "    ious = box_iou_batch(boxes, boxes)\n",
    "    ious = ious - np.eye(rows)\n",
    "\n",
    "    keep = np.ones(rows, dtype=bool)\n",
    "\n",
    "    for index, (iou, category) in enumerate(zip(ious, categories)):\n",
    "        if not keep[index]:\n",
    "            continue\n",
    "\n",
    "        condition = (iou > iou_threshold) & (categories == category)\n",
    "        keep = keep & ~condition\n",
    "\n",
    "    return predictions[keep[sort_index.argsort()]]"
   ]
  },
  {
   "cell_type": "code",
   "execution_count": null,
   "id": "91b20167",
   "metadata": {},
   "outputs": [],
   "source": [
    "model.eval()\n"
   ]
  },
  {
   "cell_type": "code",
   "execution_count": null,
   "id": "9f8403ae",
   "metadata": {},
   "outputs": [],
   "source": [
    "\n",
    "import matplotlib.pyplot as plt\n",
    "import matplotlib.patches as patches"
   ]
  },
  {
   "cell_type": "code",
   "execution_count": null,
   "id": "b190cf16",
   "metadata": {},
   "outputs": [],
   "source": [
    "labels_map = ['Background', 'Pedestrian', 'People', 'Bycicle', 'Car', 'Van', 'Truck',\n",
    "                'Tricycle', 'Awning-tricycle', 'Bus', 'Motor', 'Others']\n",
    "def draw_bounding_boxes(img, boxes,labels,scores, ax):   # image - tensor, others - numpy\n",
    "    \n",
    "    ax.imshow(img.detach().cpu().numpy().transpose(1,2,0))\n",
    "    ax.set_title('title')\n",
    "    threshold = 0.2\n",
    "    for box,label,score in zip(boxes,labels.astype(np.uint8),scores):\n",
    "        #print(label)\n",
    "        if(score < threshold):\n",
    "            continue\n",
    "        x1, y1, x2, y2 = box\n",
    "        width = x2 - x1\n",
    "        height = y2 - y1\n",
    "        rect = patches.Rectangle((x1, y1), width, height, linewidth=1, edgecolor='r', facecolor='none')\n",
    "        ax.add_patch(rect)\n",
    "        ax.text(\n",
    "                x1,\n",
    "                y1,\n",
    "                f\"{labels_map[label]}: {(np.round(score*100,1))}%\",\n",
    "                verticalalignment='top',\n",
    "                color='white',\n",
    "                fontsize=8,\n",
    "                bbox={'facecolor': 'red', 'alpha': 0.7, 'pad': 1}\n",
    "            )\n",
    "    #plt.show()\n",
    "    return ax"
   ]
  },
  {
   "cell_type": "code",
   "execution_count": null,
   "id": "bd612a23",
   "metadata": {},
   "outputs": [],
   "source": [
    "from torchvision.ops import nms\n",
    "\n",
    "def non_max_suppression_git(preds, iou_threshold=0.5, score_threshold=0.2):\n",
    "    \n",
    "    boxes = preds['boxes']\n",
    "    scores = preds['scores']\n",
    "    labels = preds['labels']\n",
    "\n",
    "    # Filter out predictions below the score_threshold\n",
    "    keep_idx = scores > score_threshold\n",
    "    boxes = boxes[keep_idx]\n",
    "    scores = scores[keep_idx]\n",
    "    labels = labels[keep_idx]\n",
    "\n",
    "    # Perform NMS and get the indices of the remaining predictions\n",
    "    keep_indices = nms(boxes, scores, iou_threshold)\n",
    "\n",
    "    # Filter out the predictions using the keep_indices\n",
    "    nms_boxes = boxes[keep_indices]\n",
    "    nms_scores = scores[keep_indices]\n",
    "    nms_labels = labels[keep_indices]\n",
    "\n",
    "    # Create a dictionary containing the filtered predictions\n",
    "    nms_preds = {\n",
    "        'boxes': nms_boxes,\n",
    "        'scores': nms_scores,\n",
    "        'labels': nms_labels\n",
    "    }\n",
    "\n",
    "    return nms_preds\n"
   ]
  },
  {
   "cell_type": "markdown",
   "id": "95b6e894",
   "metadata": {},
   "source": [
    "image = cv2.imread('D:\\\\VisDroneDataset\\\\test\\\\images\\\\0000009_01339_d_0000005.jpg')\n",
    "image  =cv2.cvtColor(image,cv2.COLOR_BGR2RGB)\n",
    "image = cv2.resize(image,(480,480),interpolation = cv2.INTER_AREA)\n",
    "image = image.transpose(2,0,1)\n",
    "\n",
    "image = torch.as_tensor(image, dtype=torch.float32).unsqueeze(dim=0).to(device)"
   ]
  },
  {
   "cell_type": "code",
   "execution_count": null,
   "id": "69799d2c",
   "metadata": {},
   "outputs": [],
   "source": [
    "os.environ['KMP_DUPLICATE_LIB_OK'] = 'True'"
   ]
  },
  {
   "cell_type": "code",
   "execution_count": null,
   "id": "ce24a985",
   "metadata": {},
   "outputs": [],
   "source": [
    "def draw_predictions(imgs, preds, mode, i):#preds - list of dictionaries of tensors\n",
    "    fig, ax = plt.subplots(1,len(imgs), figsize=(40,40))\n",
    "    for idx,(img,ann) in enumerate(zip(imgs, preds)):\n",
    "        #print(ann)\n",
    "        annotations_new = []\n",
    "        annotations_new.append(torch.cat((ann['boxes'] ,\\\n",
    "                                           (ann['scores']).unsqueeze(dim=1) if mode=='pred' else torch.ones(len(ann['boxes'])).\\\n",
    "                                          unsqueeze(dim=1),\\\n",
    "                                           ann['labels'].unsqueeze(dim=1)),dim=1).detach().cpu().numpy())\n",
    "        ann = np.array(annotations_new[0])\n",
    "        #print(ann)\n",
    "        draw_bounding_boxes(img,ann[:,0:4],ann[:,5],ann[:,4],ax[idx] if len(imgs) != 1 else ax)\n",
    "        \n",
    "    if(i!=-1):\n",
    "        fig.savefig(f'D:\\\\Drone-Object-Detection\\\\Results\\\\Images\\\\img{i}.png')\n",
    "        \n",
    "    plt.show()"
   ]
  },
  {
   "cell_type": "code",
   "execution_count": null,
   "id": "770e8c02",
   "metadata": {},
   "outputs": [],
   "source": [
    "from torchmetrics.detection import MeanAveragePrecision"
   ]
  },
  {
   "cell_type": "code",
   "execution_count": null,
   "id": "8afdafa4",
   "metadata": {},
   "outputs": [],
   "source": [
    "def replace_cuda_with_cpu(data):\n",
    "    if isinstance(data, torch.Tensor):\n",
    "        return data.cpu()\n",
    "    elif isinstance(data, dict):\n",
    "        return {key: replace_cuda_with_cpu(value) for key, value in data.items()}\n",
    "    elif isinstance(data, list):\n",
    "        return [replace_cuda_with_cpu(item) for item in data]\n",
    "    else:\n",
    "        return data"
   ]
  },
  {
   "cell_type": "code",
   "execution_count": null,
   "id": "0045a2a1",
   "metadata": {},
   "outputs": [],
   "source": [
    "def dict_to_cpu(preds):\n",
    "    new_l = []\n",
    "    for dic in preds:\n",
    "        new_l.append(replace_cuda_with_cpu(dic))\n",
    "        \n",
    "    return new_l"
   ]
  },
  {
   "cell_type": "code",
   "execution_count": null,
   "id": "99ccde1f",
   "metadata": {},
   "outputs": [],
   "source": [
    "def from_dict_to_arr(dict):\n",
    "    annotations_new = []\n",
    "    for ann in dict:\n",
    "        \n",
    "        annotations_new+=(torch.cat((ann['boxes'] ,\\\n",
    "                                           torch.ones(len(ann['boxes'])).unsqueeze(dim=1).to(device),\\\n",
    "                                           ann['labels'].unsqueeze(dim=1)),dim=1).detach().cpu().numpy())\n",
    "        \n",
    "    return annotations_new"
   ]
  },
  {
   "cell_type": "code",
   "execution_count": null,
   "id": "c0332177",
   "metadata": {},
   "outputs": [],
   "source": [
    "map_file = open('Results\\\\mAPs\\\\file.txt','w')\n",
    "map_file.close()\n",
    "\n"
   ]
  },
  {
   "cell_type": "code",
   "execution_count": null,
   "id": "85b0c381",
   "metadata": {},
   "outputs": [],
   "source": [
    "def calc_mAP(pred,target):\n",
    "    metric = MeanAveragePrecision(iou_type=\"bbox\")\n",
    "    metric.update(preds, annotations)\n",
    "    map_file.write(str(metric.compute())+'\\n')\n",
    "    print(metric.compute())\n",
    "    \n"
   ]
  },
  {
   "cell_type": "code",
   "execution_count": null,
   "id": "ed6fe260",
   "metadata": {},
   "outputs": [],
   "source": [
    "map_file = open('Results\\\\mAPs\\\\file.txt','a')\n",
    "#path to img - 'Results\\\\imgs\\\\img(i).jpg"
   ]
  },
  {
   "cell_type": "code",
   "execution_count": null,
   "id": "9a3f1fd3",
   "metadata": {
    "scrolled": true
   },
   "outputs": [],
   "source": [
    "maps = \"\"\n",
    "for i, (batch_imgs, annotations) in enumerate(val_loader):\n",
    "    batch_imgs = [torch.from_numpy(img).float().to(device) for img in batch_imgs]#tensor\n",
    "    #print(batch_imgs)\n",
    "    preds = model(batch_imgs)#tensor\n",
    "    preds = replace_cuda_with_cpu(preds) \n",
    "    \n",
    "    \n",
    "    \n",
    "    \n",
    "    nms_preds = []\n",
    "    for pred in preds:\n",
    "        nms_pred = non_max_suppression_git(pred)\n",
    "        #nms_pred = pred\n",
    "        nms_preds.append(nms_pred)\n",
    "        \n",
    "    calc_mAP(nms_preds,annotations)\n",
    "    \n",
    "    \n",
    "    \n",
    "    draw_predictions(batch_imgs,nms_preds,'pred',i)#list of dictionaries of tensors\n",
    "    \n",
    "    draw_predictions(batch_imgs,annotations,'tar',-1)\n",
    "    \n",
    "    if(i >= 2):\n",
    "        break"
   ]
  },
  {
   "cell_type": "code",
   "execution_count": null,
   "id": "9cac3e54",
   "metadata": {},
   "outputs": [],
   "source": [
    "map_file.close()"
   ]
  },
  {
   "cell_type": "code",
   "execution_count": null,
   "id": "eb0d88e4",
   "metadata": {},
   "outputs": [],
   "source": []
  },
  {
   "cell_type": "code",
   "execution_count": null,
   "id": "2b5c4415",
   "metadata": {},
   "outputs": [],
   "source": []
  }
 ],
 "metadata": {
  "kernelspec": {
   "display_name": "Python 3 (ipykernel)",
   "language": "python",
   "name": "python3"
  },
  "language_info": {
   "codemirror_mode": {
    "name": "ipython",
    "version": 3
   },
   "file_extension": ".py",
   "mimetype": "text/x-python",
   "name": "python",
   "nbconvert_exporter": "python",
   "pygments_lexer": "ipython3",
   "version": "3.11.4"
  }
 },
 "nbformat": 4,
 "nbformat_minor": 5
}
