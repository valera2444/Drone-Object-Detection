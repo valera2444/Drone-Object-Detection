{
 "cells": [
  {
   "cell_type": "code",
   "execution_count": null,
   "id": "71ebeaf9",
   "metadata": {
    "scrolled": true
   },
   "outputs": [],
   "source": [
    "import pandas as pd\n",
    "import numpy as np\n",
    "import torch\n",
    "import os\n",
    "import gc\n"
   ]
  },
  {
   "cell_type": "code",
   "execution_count": null,
   "id": "8d60525c",
   "metadata": {
    "scrolled": true
   },
   "outputs": [],
   "source": [
    "import pickle"
   ]
  },
  {
   "cell_type": "code",
   "execution_count": null,
   "id": "273c56c6",
   "metadata": {
    "scrolled": true
   },
   "outputs": [],
   "source": [
    "from torch.utils.data import DataLoader\n",
    "from torch.utils.data import Dataset"
   ]
  },
  {
   "cell_type": "code",
   "execution_count": null,
   "id": "6a0fd7a7",
   "metadata": {
    "scrolled": true
   },
   "outputs": [],
   "source": [
    "import cv2"
   ]
  },
  {
   "cell_type": "code",
   "execution_count": null,
   "id": "dee6c85c",
   "metadata": {
    "scrolled": true
   },
   "outputs": [],
   "source": [
    "\n",
    "import torchvision.models.detection as tmd\n",
    "from torchvision.models.detection.faster_rcnn import FastRCNNPredictor as FRP\n",
    "import inspect\n",
    "import torchvision\n",
    "#converting the customised rcnn model\n",
    "from torchvision.models.detection.faster_rcnn import FastRCNNPredictor\n"
   ]
  },
  {
   "cell_type": "code",
   "execution_count": null,
   "id": "45a47476",
   "metadata": {
    "scrolled": true
   },
   "outputs": [],
   "source": [
    "root_dir = 'D:\\\\Drone-Object-Detection\\\\VisDroneDataset\\\\'\n",
    "test_dir = 'test\\\\'\n",
    "train_dir = 'train\\\\'\n",
    "val_dir = 'validation\\\\'"
   ]
  },
  {
   "cell_type": "code",
   "execution_count": null,
   "id": "6c89d2c9",
   "metadata": {
    "scrolled": true
   },
   "outputs": [],
   "source": [
    "def split_image_with_asp_ratio(image):\n",
    "    print(image.shape)"
   ]
  },
  {
   "cell_type": "code",
   "execution_count": null,
   "id": "73763507",
   "metadata": {
    "scrolled": true
   },
   "outputs": [],
   "source": [
    "class VisDroneDataset(Dataset):\n",
    "    def __init__(self, path, img_shape):\n",
    "        \n",
    "        self.root = path\n",
    "        self.width = img_shape[1]\n",
    "        self.height = img_shape[0]\n",
    "        self.images = os.listdir(path+'images\\\\')\n",
    "        self.annotations = os.listdir(path+'annotations\\\\')\n",
    "        self.length = len(self.images)\n",
    "        \n",
    "    def __len__(self):\n",
    "        return self.length\n",
    "    \n",
    "    def __getitem__(self, idx):\n",
    "        #print(self.root+'images\\\\'+self.images[idx])\n",
    "        image = cv2.imread(self.root+'images\\\\'+self.images[idx])\n",
    "        #print(image.shape)\n",
    "        img_width = image.shape[1]\n",
    "        img_height = image.shape[0]     #right?\n",
    "        \n",
    "        image  =cv2.cvtColor(image,cv2.COLOR_BGR2RGB)\n",
    "        if ((self.width,self.height) != (-1,-1)):\n",
    "            image = cv2.resize(image,(self.width,self.height),interpolation = cv2.INTER_AREA)\n",
    "        else:\n",
    "            self.width = img_width\n",
    "            self.height = img_height\n",
    "            \n",
    "        image = image.transpose(2,0,1)\n",
    "        image = (image/255.0)\n",
    "        \n",
    "        \n",
    "        #bbox_left, bbox_top, bbox_width, bbox_height, category = map(float, data[:5])\n",
    "        target = self.annotations[idx]    #*.txt file       \n",
    "        \n",
    "        boxes = []\n",
    "        labels = []\n",
    "        with open(self.root+'annotations\\\\'+target) as f:\n",
    "            for line in f:\n",
    "                data = line.split(',')#strip\n",
    "                #print(list(map(float, data[:5])))\n",
    "                box_left, box_top, box_width, box_height,smth, category = map(float, data[:6])\n",
    "                \n",
    "                box_width = 1 if box_width < 1 else box_width\n",
    "                box_height = 1 if box_height < 1 else box_height\n",
    "                \n",
    "                box_right = box_left + box_width\n",
    "                box_bottom = box_top + box_height\n",
    "                #rescale box            \n",
    "                box_left = (box_left/img_width) * self.width\n",
    "                box_right = (box_right/img_width) * self.width\n",
    "                box_top = (box_top/img_height) * self.height\n",
    "                box_bottom = (box_bottom/img_height) * self.height\n",
    "                boxes.append((box_left,box_top,box_right, box_bottom))\n",
    "#                 for b in boxes:\n",
    "#                     for bb in b:\n",
    "#                         if bb > 480 or bb < 0:\n",
    "#                             print(b,'\\n',bb)\n",
    "                labels.append(int(category))\n",
    "                \n",
    "        \n",
    "        boxes = torch.as_tensor(boxes, dtype=torch.float32)\n",
    "        #print(boxes)\n",
    "        labels = torch.as_tensor(labels, dtype=torch.int64)\n",
    "        target = {}\n",
    "        target['boxes'] = boxes\n",
    "        target['labels'] = labels\n",
    "        target['image_id'] = torch.tensor((idx))\n",
    "        \n",
    "        return image, target"
   ]
  },
  {
   "cell_type": "code",
   "execution_count": null,
   "id": "b9fcad35",
   "metadata": {
    "scrolled": true
   },
   "outputs": [],
   "source": [
    "train_dataset = VisDroneDataset(root_dir+train_dir,(480,480))\n",
    "val_dataset = VisDroneDataset(root_dir+val_dir,(-1,-1))"
   ]
  },
  {
   "cell_type": "code",
   "execution_count": null,
   "id": "23293e93",
   "metadata": {
    "scrolled": true
   },
   "outputs": [],
   "source": [
    "def collate_fn(batch):\n",
    "    images = []\n",
    "    targets = []\n",
    "\n",
    "    for img, target in batch:\n",
    "        images.append(img)\n",
    "        targets.append(target)\n",
    "\n",
    "    return (images, targets)\n"
   ]
  },
  {
   "cell_type": "code",
   "execution_count": null,
   "id": "56551681",
   "metadata": {
    "scrolled": true
   },
   "outputs": [],
   "source": [
    "train_loader = DataLoader(train_dataset, batch_size=3, shuffle=True,collate_fn=collate_fn)\n",
    "val_loader = DataLoader(val_dataset, batch_size=3, shuffle=True,collate_fn=collate_fn)"
   ]
  },
  {
   "cell_type": "code",
   "execution_count": null,
   "id": "6e0b2948",
   "metadata": {
    "scrolled": true
   },
   "outputs": [],
   "source": [
    "device = torch.device('cuda:0' if torch.cuda.is_available() else 'cpu')"
   ]
  },
  {
   "cell_type": "code",
   "execution_count": null,
   "id": "f502e7f5",
   "metadata": {
    "scrolled": true
   },
   "outputs": [],
   "source": [
    "torch.hub.set_dir('D:\\\\torch_models')"
   ]
  },
  {
   "cell_type": "code",
   "execution_count": null,
   "id": "50f34d94",
   "metadata": {
    "scrolled": true
   },
   "outputs": [],
   "source": [
    "model = None"
   ]
  },
  {
   "cell_type": "code",
   "execution_count": null,
   "id": "4e83dd2e",
   "metadata": {},
   "outputs": [],
   "source": [
    "def choose_model(which):\n",
    "    model = None\n",
    "    if which == 'cropped':\n",
    "        with open('model_trained_on_cropped.pkl', 'rb') as f:\n",
    "            model = pickle.load(f)\n",
    "            return model\n",
    "    else:\n",
    "        with open('model.pkl', 'rb') as f:\n",
    "            model = pickle.load(f)\n",
    "            return model"
   ]
  },
  {
   "cell_type": "code",
   "execution_count": null,
   "id": "9f8403ae",
   "metadata": {
    "scrolled": true
   },
   "outputs": [],
   "source": [
    "\n",
    "import matplotlib.pyplot as plt\n",
    "import matplotlib.patches as patches\n",
    "\n",
    "CONFIDENCE_THRESHOLD = 0.3\n",
    "labels_map = ['Background', 'Pedestrian', 'People', 'Bycicle', 'Car', 'Van', 'Truck',\n",
    "                'Tricycle', 'Awning-tricycle', 'Bus', 'Motor', 'Others']"
   ]
  },
  {
   "cell_type": "code",
   "execution_count": null,
   "id": "bd612a23",
   "metadata": {
    "scrolled": true
   },
   "outputs": [],
   "source": [
    "from torchvision.ops import nms\n",
    "\n",
    "def non_max_suppression_git(preds, iou_threshold=0.9, score_threshold=0.3):\n",
    "    \n",
    "    boxes = preds['boxes']\n",
    "    scores = preds['scores']\n",
    "    labels = preds['labels']\n",
    "\n",
    "    # Filter out predictions below the score_threshold\n",
    "    keep_idx = scores > score_threshold\n",
    "    boxes = boxes[keep_idx]\n",
    "    scores = scores[keep_idx]\n",
    "    labels = labels[keep_idx]\n",
    "\n",
    "    # Perform NMS and get the indices of the remaining predictions\n",
    "    keep_indices = nms(boxes, scores, iou_threshold)\n",
    "\n",
    "    # Filter out the predictions using the keep_indices\n",
    "    nms_boxes = boxes[keep_indices]\n",
    "    nms_scores = scores[keep_indices]\n",
    "    nms_labels = labels[keep_indices]\n",
    "\n",
    "    # Create a dictionary containing the filtered predictions\n",
    "    nms_preds = {\n",
    "        'boxes': nms_boxes,\n",
    "        'scores': nms_scores,\n",
    "        'labels': nms_labels\n",
    "    }\n",
    "\n",
    "    return nms_preds\n"
   ]
  },
  {
   "cell_type": "code",
   "execution_count": null,
   "id": "69799d2c",
   "metadata": {
    "scrolled": true
   },
   "outputs": [],
   "source": [
    "os.environ['KMP_DUPLICATE_LIB_OK'] = 'True'"
   ]
  },
  {
   "cell_type": "code",
   "execution_count": null,
   "id": "ce24a985",
   "metadata": {
    "scrolled": true
   },
   "outputs": [],
   "source": [
    "def draw_predictions(imgs, preds, mode, i):#preds - list of dictionaries of tensors\n",
    "    def draw_bounding_boxes(img, boxes,labels,scores, ax):   # image - tensor, others - numpy\n",
    "    \n",
    "        ax.imshow(img.detach().cpu().numpy().transpose(1,2,0))\n",
    "        ax.set_title('title')\n",
    "        threshold = CONFIDENCE_THRESHOLD\n",
    "        for box,label,score in zip(boxes,labels.astype(np.uint8),scores):\n",
    "            #print(label)\n",
    "            if(score < threshold):\n",
    "                continue\n",
    "            x1, y1, x2, y2 = box\n",
    "            width = x2 - x1\n",
    "            height = y2 - y1\n",
    "            rect = patches.Rectangle((x1, y1), width, height, linewidth=1, edgecolor='r', facecolor='none')\n",
    "            ax.add_patch(rect)\n",
    "            ax.text(\n",
    "                    x1,\n",
    "                    y1,\n",
    "                    f\"{labels_map[label]}: {(np.round(score*100,1))}%\",\n",
    "                    verticalalignment='top',\n",
    "                    color='white',\n",
    "                    fontsize=8,\n",
    "                    bbox={'facecolor': 'red', 'alpha': 0.7, 'pad': 1}\n",
    "                )\n",
    "        #plt.show()\n",
    "        return ax\n",
    "\n",
    "    fig, ax = plt.subplots(1,len(imgs), figsize=(40,40))\n",
    "    for idx,(img,ann) in enumerate(zip(imgs, preds)):\n",
    "        #print(ann)\n",
    "        annotations_new = []\n",
    "        annotations_new.append(torch.cat((ann['boxes'] ,\\\n",
    "                                           (ann['scores']).unsqueeze(dim=1) if mode=='pred' else torch.ones(len(ann['boxes'])).\\\n",
    "                                          unsqueeze(dim=1),\\\n",
    "                                           ann['labels'].unsqueeze(dim=1)),dim=1).detach().cpu().numpy())\n",
    "        ann = np.array(annotations_new[0])\n",
    "        #print(ann)\n",
    "        ann = ann[ann[:,4] > CONFIDENCE_THRESHOLD,:]\n",
    "        #print(ann)\n",
    "        \n",
    "        draw_bounding_boxes(img,ann[:,0:4],ann[:,5],ann[:,4],ax[idx] if len(imgs) != 1 else ax)\n",
    "        \n",
    "    if(i!=-1):\n",
    "        fig.savefig(f'D:\\\\Drone-Object-Detection\\\\Results\\\\Images\\\\img{i}.png')\n",
    "        \n",
    "    plt.show()"
   ]
  },
  {
   "cell_type": "code",
   "execution_count": null,
   "id": "8afdafa4",
   "metadata": {
    "scrolled": true
   },
   "outputs": [],
   "source": [
    "def replace_cuda_with_cpu(data):\n",
    "    if isinstance(data, torch.Tensor):\n",
    "        return data.cpu()\n",
    "    elif isinstance(data, dict):\n",
    "        return {key: replace_cuda_with_cpu(value) for key, value in data.items()}\n",
    "    elif isinstance(data, list):\n",
    "        return [replace_cuda_with_cpu(item) for item in data]\n",
    "    else:\n",
    "        return data"
   ]
  },
  {
   "cell_type": "code",
   "execution_count": null,
   "id": "0045a2a1",
   "metadata": {
    "scrolled": true
   },
   "outputs": [],
   "source": [
    "def dict_to_cpu(preds):\n",
    "    new_l = []\n",
    "    for dic in preds:\n",
    "        new_l.append(replace_cuda_with_cpu(dic))\n",
    "        \n",
    "    #print(new_l)\n",
    "    return new_l\n"
   ]
  },
  {
   "cell_type": "code",
   "execution_count": null,
   "id": "99ccde1f",
   "metadata": {
    "scrolled": true
   },
   "outputs": [],
   "source": [
    "def from_dict_to_arr(dictionary, data = 'target'):\n",
    "    annotations_new = []\n",
    "    dictionary = dict_to_cpu(dictionary)\n",
    "    \n",
    "    for ann in dictionary:\n",
    "        \n",
    "        annotations_new+=(torch.cat((ann['boxes'] ,\\\n",
    "                                           torch.ones(len(ann['boxes'])).unsqueeze(dim=1) if data == 'target' else \\\n",
    "                                     ann['scores'].unsqueeze(dim=1),\\\n",
    "                                           ann['labels'].unsqueeze(dim=1)),dim=1))\n",
    "    \n",
    "    \n",
    "    return annotations_new"
   ]
  },
  {
   "cell_type": "code",
   "execution_count": null,
   "id": "85b0c381",
   "metadata": {
    "scrolled": true
   },
   "outputs": [],
   "source": [
    "from torchmetrics.detection import MeanAveragePrecision\n",
    "def calc_mAP(preds,target):\n",
    "    metric = MeanAveragePrecision(iou_type=\"bbox\")\n",
    "    metric.update(preds, target)\n",
    "    \n",
    "    return metric.compute()\n"
   ]
  },
  {
   "cell_type": "code",
   "execution_count": null,
   "id": "2c4d0128",
   "metadata": {
    "scrolled": true
   },
   "outputs": [],
   "source": [
    "def make_all_numpy(obj):\n",
    "    if isinstance(obj, torch.Tensor):\n",
    "        return obj.numpy()\n",
    "    elif isinstance(obj, (list, tuple)):\n",
    "        return [make_all_numpy(item) for item in obj]\n",
    "    elif isinstance(obj, dict):\n",
    "        return {key: make_all_numpy(value) for key, value in obj.items()}\n",
    "    else:\n",
    "        return obj"
   ]
  },
  {
   "cell_type": "code",
   "execution_count": null,
   "id": "ae934dca",
   "metadata": {
    "scrolled": true
   },
   "outputs": [],
   "source": [
    "#detections (Array[N, 6]), x1, y1, x2, y2, conf, class\n",
    "# labels (Array[M, 5]), class, x1, y1, x2, y2\n",
    "def prepare_for_conf_matrx(pred,annot):      ##############            BBBBBBBBBUUUUUUUUUUUUUUUUGGGGGGGGGGG\n",
    "    pred = from_dict_to_arr(dict_to_cpu(pred),'my_pred')\n",
    "    annot = from_dict_to_arr(dict_to_cpu(annot),'target')\n",
    "    \n",
    "    pred = make_all_numpy(pred)\n",
    "    annot = make_all_numpy(annot)\n",
    "    \n",
    "    permutation = [5,0,1,2,3,4]\n",
    "    \n",
    "    pred, annot = np.array(pred), np.delete(np.array(annot,dtype=np.int16)[:,permutation] , 5,1)\n",
    "    #print(pred)\n",
    "    try:\n",
    "    \n",
    "        pred[:,0] = pred[:,0].astype(np.int16)\n",
    "        pred[:,1] = pred[:,1].astype(np.int16)\n",
    "        pred[:,2] = pred[:,2].astype(np.int16)\n",
    "        pred[:,3] = pred[:,3].astype(np.int16)\n",
    "        pred[:,5] = pred[:,5].astype(np.int16)\n",
    "    \n",
    "    except Exception :\n",
    "        print(pred)\n",
    "    #pred[:,[0,1,2,3,5]] = np.array(pred[:,[0,1,2,3,5]],dtype=np.uint8)\n",
    "    \n",
    "    #print(pred)\n",
    "    return pred,annot"
   ]
  },
  {
   "cell_type": "code",
   "execution_count": null,
   "id": "c0c11833",
   "metadata": {
    "scrolled": true
   },
   "outputs": [],
   "source": [
    "import seaborn as sns\n",
    "%matplotlib inline\n",
    "\n",
    "from torchvision import ops"
   ]
  },
  {
   "cell_type": "code",
   "execution_count": null,
   "id": "10d362a5",
   "metadata": {
    "scrolled": true
   },
   "outputs": [],
   "source": [
    "\n",
    "\n",
    "class ConfusionMatrix:\n",
    "    def __init__(self, num_classes: int, CONF_THRESHOLD=0.3, IOU_THRESHOLD=0.5):\n",
    "        self.matrix = np.zeros((num_classes + 1, num_classes + 1))\n",
    "        self.num_classes = num_classes\n",
    "        self.CONF_THRESHOLD = CONF_THRESHOLD\n",
    "        self.IOU_THRESHOLD = IOU_THRESHOLD\n",
    "\n",
    "    def process_batch(self, detections, labels: np.ndarray):\n",
    "        \n",
    "        \n",
    "        gt_classes = labels[:, 0].astype(np.uint8)\n",
    "        try:\n",
    "            detections = detections[detections[:, 4] > self.CONF_THRESHOLD]\n",
    "        except IndexError or TypeError:\n",
    "            # detections are empty, end of process\n",
    "            for i, label in enumerate(labels):\n",
    "                gt_class = gt_classes[i]\n",
    "                self.matrix[self.num_classes, gt_class] += 1\n",
    "            return\n",
    "\n",
    "        detection_classes = detections[:, 5].astype(np.uint8)\n",
    "        #print(labels[:, 1:])\n",
    "        #print()\n",
    "        #print(detections[:, :4])\n",
    "        all_ious = self.__calculate_iou_matrix__(labels[:, 1:], detections[:, :4])\n",
    "        #print(detection_classes)\n",
    "        want_idx = np.where(all_ious > self.IOU_THRESHOLD)\n",
    "        #print(want_idx)\n",
    "        all_matches = [[want_idx[0][i], want_idx[1][i], all_ious[want_idx[0][i], want_idx[1][i]]]\n",
    "                       for i in range(want_idx[0].shape[0])]\n",
    "\n",
    "        all_matches = np.array(all_matches)\n",
    "        \n",
    "        #print(all_matches)\n",
    "        if all_matches.shape[0] > 0:  # if there is match\n",
    "            all_matches = all_matches[all_matches[:, 2].argsort()[::-1]]\n",
    "            all_matches = all_matches[np.unique(all_matches[:, 1], return_index=True)[1]]\n",
    "            all_matches = all_matches[all_matches[:, 2].argsort()[::-1]]\n",
    "            all_matches = all_matches[np.unique(all_matches[:, 0], return_index=True)[1]]\n",
    "\n",
    "            \n",
    "        #print(all_matches)\n",
    "        #print(len(all_matches))\n",
    "        for i, label in enumerate(labels):\n",
    "            gt_class = gt_classes[i]\n",
    "            \n",
    "            if all_matches.shape[0] > 0 and all_matches[all_matches[:, 0] == i].shape[0] == 1:#==1?\n",
    "                \n",
    "                detection_class = detection_classes[int(all_matches[all_matches[:, 0] == i, 1][0])]\n",
    "                self.matrix[detection_class, gt_class] += 1\n",
    "            else:\n",
    "                \n",
    "                self.matrix[self.num_classes, gt_class] += 1\n",
    "\n",
    "        for i, detection in enumerate(detections):\n",
    "            if not all_matches.shape[0] or ( all_matches.shape[0] and all_matches[all_matches[:, 1] == i].shape[0] == 0 ):\n",
    "                detection_class = detection_classes[i]\n",
    "                self.matrix[detection_class, self.num_classes] += 1\n",
    "\n",
    "    def return_matrix(self):\n",
    "        return self.matrix\n",
    "\n",
    "    def print_matrix(self):\n",
    "        for i in range(self.num_classes + 1):\n",
    "            print(' '.join(map(str, self.matrix[i])))\n",
    "            \n",
    "    def __calculate_iou_matrix__(self, boxesA, boxesB):\n",
    "\n",
    "        # Convert numpy arrays to torch tensors\n",
    "        boxesA_torch = torch.tensor(boxesA, dtype=torch.float32)\n",
    "        boxesB_torch = torch.tensor(boxesB, dtype=torch.float32)\n",
    "\n",
    "        # Use torchvision.ops.box_iou to calculate IoU matrix\n",
    "        iou_matrix_torch = torchvision.ops.box_iou(boxesA_torch, boxesB_torch)\n",
    "\n",
    "        # Convert the torch tensor back to a numpy array\n",
    "        iou_matrix = iou_matrix_torch.numpy()\n",
    "\n",
    "        return iou_matrix\n",
    "            \n",
    "            \n",
    "#SMTH wrong woth all matches"
   ]
  },
  {
   "cell_type": "code",
   "execution_count": null,
   "id": "750a0dfb",
   "metadata": {},
   "outputs": [],
   "source": [
    "def draw_heatmap(conf_matr, ax, cen=None):\n",
    "    \n",
    "    hm = sns.heatmap(np.array(conf_matr.return_matrix()), center =cen,cmap=\"crest\",  annot=True, ax=ax,fmt='g')\n",
    "    hm.set_ylabel('Predicted')\n",
    "    hm.set_xlabel('True')\n",
    "    hm.set_ylabel('Predicted')\n",
    "    hm.set_xlabel('True')\n",
    "\n",
    "\n",
    "    my_lm = labels_map.copy()\n",
    "    my_lm += ['None']\n",
    "    tickvalues = range(0,len(my_lm))\n",
    "    hm.set_xticks(ticks=tickvalues, labels=my_lm, rotation = 'vertical')\n",
    "    hm.set_yticks(ticks=tickvalues, labels=my_lm, rotation = 'horizontal')\n",
    "    return hm\n",
    "    \n",
    "    \n"
   ]
  },
  {
   "cell_type": "code",
   "execution_count": null,
   "id": "e73f6576",
   "metadata": {},
   "outputs": [],
   "source": [
    "from sahi import AutoDetectionModel\n",
    "from sahi.predict import get_sliced_prediction, predict, get_prediction\n",
    "from sahi.utils.file import download_from_url\n",
    "from sahi.utils.cv import read_image\n",
    "from PIL import Image"
   ]
  },
  {
   "cell_type": "code",
   "execution_count": null,
   "id": "206f7b7c",
   "metadata": {},
   "outputs": [],
   "source": [
    "class SAHI_predictor:\n",
    "    def __init__(self,model):\n",
    "        self.detection_model =self. __create_detection_model__(model)\n",
    "    \n",
    "    def from_x1y1wh_to_x1y1x2y2(self, box: list)->list:   \n",
    "        box[2] = box[0] + box[2]\n",
    "        box[3] = box[1] + box[3]\n",
    "        return box\n",
    "    \n",
    "    def to_common_dict(self, list_of_dict):\n",
    "        #print(list_of_dict)\n",
    "        boxes = []\n",
    "        labels = []\n",
    "        scores = []\n",
    "        for dic in list_of_dict:\n",
    "            \n",
    "            boxes.append(self.from_x1y1wh_to_x1y1x2y2(dic['bbox']))\n",
    "            labels.append(dic['category_id'])##not sure\n",
    "            scores.append(dic['score'])\n",
    "\n",
    "        return {'scores':torch.tensor(scores),'labels':torch.tensor(labels), 'boxes':torch.tensor(boxes)}\n",
    "    \n",
    "    def predict_with_SAHI(self, batch_imgs):\n",
    "        batch_imgs = make_all_numpy(replace_cuda_with_cpu(batch_imgs))\n",
    "        results = []\n",
    "        for img in batch_imgs:\n",
    "            result = get_sliced_prediction(\n",
    "                Image.fromarray(np.moveaxis((img * 255).astype(np.uint8), [0,1,2],[2,0,1])),#2 1 0\n",
    "                self.detection_model,\n",
    "                slice_height = 320,\n",
    "                slice_width = 480,\n",
    "                overlap_height_ratio = 0,\n",
    "                overlap_width_ratio = 0 \n",
    "            ) # returns x1y1wh\n",
    "            results.append(self.to_common_dict(result.to_coco_annotations()))\n",
    "\n",
    "        return results\n",
    "    \n",
    "    def __create_detection_model__(self, model):\n",
    "        detection_model = AutoDetectionModel.from_pretrained(\n",
    "            model_type='torchvision',\n",
    "            model=model,\n",
    "            confidence_threshold=0.5,\n",
    "            image_size=None,       # if need to resize before inference and making pred\n",
    "            device=\"cuda:0\", \n",
    "            load_at_init=True,\n",
    "        )\n",
    "        return detection_model\n",
    "        \n",
    "    def __call__(self, batch_imgs):\n",
    "        return self.predict_with_SAHI(batch_imgs)"
   ]
  },
  {
   "cell_type": "code",
   "execution_count": null,
   "id": "4e0b92a7",
   "metadata": {},
   "outputs": [],
   "source": [
    "def concat_predictios(pred1, pred2):\n",
    "    pred1 = pred1[0]\n",
    "    pred2 = pred2[0]\n",
    "    boxes = torch.cat((pred1['boxes'], pred2['boxes'].to(device)),dim=0)\n",
    "    labels = torch.cat((pred1['labels'], pred2['labels'].to(device)),dim=0)\n",
    "    scores = torch.cat((pred1['scores'], pred2['scores'].to(device)),dim=0)\n",
    "    \n",
    "    return [{'boxes':boxes, 'labels':labels, 'scores':scores}]"
   ]
  },
  {
   "cell_type": "code",
   "execution_count": null,
   "id": "9a3f1fd3",
   "metadata": {
    "scrolled": true
   },
   "outputs": [],
   "source": [
    "\n",
    "def count_avg_map_and_conf_matr(model, sahi_predictor, loader,  value_to_break = 20,flag=None):\n",
    "    \n",
    "    conf_matr = ConfusionMatrix(12,CONF_THRESHOLD = CONFIDENCE_THRESHOLD, IOU_THRESHOLD = 0.5)\n",
    "    \n",
    "    c = 0\n",
    "    \n",
    "    total_map = 0\n",
    "    total_map_50 = 0\n",
    "    total_map_75 = 0\n",
    "    total_map_small = 0\n",
    "    total_map_medium = 0\n",
    "    total_map_large = 0\n",
    "    \n",
    "    c_total_map_50 = 0\n",
    "    c_total_map_75 = 0\n",
    "    c_total_map_small = 0\n",
    "    c_total_map_medium = 0\n",
    "    c_total_map_large = 0\n",
    "    \n",
    "    total_preds=0\n",
    "    for i, (batch_imgs, annotations) in enumerate(loader):\n",
    "        batch_imgs = [torch.from_numpy(img).float().to(device) for img in batch_imgs]#tensor\n",
    "        \n",
    "        preds = None\n",
    "        \n",
    "        if flag == 'Common model':\n",
    "            if(model == None):\n",
    "                raise Exception(\"you must choose correct flag\")\n",
    "            with torch.no_grad():\n",
    "                preds = model(batch_imgs)#tensor\n",
    "                \n",
    "        elif flag == 'SAHI':\n",
    "            if(sahi_predictor == None):\n",
    "                raise Exception(\"you must choose correct flag\")\n",
    "            preds = sahi_predictor(batch_imgs)\n",
    "        \n",
    "        elif flag == 'Full inference':\n",
    "            if(sahi_predictor == None or model == None):\n",
    "                raise Exception(\"you must choose correct flag\")\n",
    "            with torch.no_grad():\n",
    "                preds = model(batch_imgs)#tensor\n",
    "            preds = concat_predictios(preds, sahi_predictor(batch_imgs))\n",
    "            \n",
    "        elif preds==None:\n",
    "            raise Exception(\"you must choose correct flag\")\n",
    "            \n",
    "            \n",
    "            \n",
    "        preds = replace_cuda_with_cpu(preds) \n",
    "        nms_preds = []\n",
    "        for pred in preds:\n",
    "            nms_pred = non_max_suppression_git(pred)\n",
    "            nms_preds.append(nms_pred)\n",
    "        #print(nms_preds)\n",
    "        map_dict = calc_mAP(nms_preds, annotations)\n",
    "       \n",
    "        if(map_dict['map'].item() > 0):\n",
    "            total_map += map_dict['map'].item()\n",
    "            c+=1\n",
    "            \n",
    "        if(map_dict['map_50'].item() > 0):\n",
    "            total_map_50 += map_dict['map_50'].item()\n",
    "            c_total_map_50+=1\n",
    "            \n",
    "        if(map_dict['map_75'].item() > 0):\n",
    "            total_map_75 += map_dict['map_75'].item()\n",
    "            c_total_map_75+=1\n",
    "            \n",
    "        if(map_dict['map_small'].item() > 0):\n",
    "            total_map_small += map_dict['map_small'].item()\n",
    "            c_total_map_small+=1\n",
    "            \n",
    "        if(map_dict['map_medium'].item() > 0):\n",
    "            total_map_medium += map_dict['map_medium'].item()\n",
    "            c_total_map_medium+=1\n",
    "            \n",
    "        if(map_dict['map_large'].item() > 0):\n",
    "            total_map_large += map_dict['map_large'].item()\n",
    "            c_total_map_large+=1\n",
    "        \n",
    "        \n",
    "        for pred in nms_preds:\n",
    "            preds_ind = pred['scores'] > CONFIDENCE_THRESHOLD\n",
    "            pred = pred['labels'][preds_ind]\n",
    "            total_preds+= sum(pred == 5)\n",
    "\n",
    "        \n",
    "            #print(c)\n",
    "        a,b = prepare_for_conf_matrx(nms_preds,annotations)\n",
    "\n",
    "\n",
    "        conf_matr.process_batch(a,b)\n",
    "\n",
    "        if(i%10 == 0):\n",
    "            print(i)\n",
    "        if(i == value_to_break):\n",
    "            break\n",
    "\n",
    "            \n",
    "    \n",
    "    #print(total_preds)\n",
    "    #map_file.write('avarage map:',total_map / c)\n",
    "    \n",
    "    maps = \"\"\n",
    "    maps+= ('avgerage map 50-95: '+str(total_map/c if c != 0 else -1) + '\\n' + \\\n",
    "            'avgerage map 50: '+str(total_map_50/c_total_map_50 if c_total_map_50 != 0 else -1) + '\\n' + \\\n",
    "            'avgerage map 75: '+str(total_map_75/c_total_map_75 if c_total_map_75 != 0 else -1) + '\\n' + \\\n",
    "            'avgerage map small: '+str(total_map_small/c_total_map_small if c_total_map_small != 0 else -1) + '\\n' + \\\n",
    "            'avgerage map medium: '+str(total_map_medium/c_total_map_medium if c_total_map_medium != 0 else -1) + '\\n' + \\\n",
    "            'avgerage map large: '+str(total_map_large/c_total_map_large if c_total_map_large != 0 else -1) + '\\n')\n",
    "            \n",
    "            \n",
    "    \n",
    "    \n",
    "    #print(maps)\n",
    "    \n",
    "    \n",
    "    return maps, conf_matr\n",
    "\n",
    "#ОШИБКА В ТИПАХ БЫЛА(np.uint8 неправильно)"
   ]
  },
  {
   "cell_type": "code",
   "execution_count": null,
   "id": "411db841",
   "metadata": {},
   "outputs": [],
   "source": []
  },
  {
   "cell_type": "code",
   "execution_count": null,
   "id": "8ab06922",
   "metadata": {},
   "outputs": [],
   "source": [
    "model = choose_model('cropped').to(device)\n",
    "model.eval()\n",
    "sahi_predictor = SAHI_predictor(model)"
   ]
  },
  {
   "cell_type": "code",
   "execution_count": null,
   "id": "27b7db64",
   "metadata": {},
   "outputs": [],
   "source": [
    "import random\n",
    "\n",
    "def cmp_sahi_and_common(dataset, sahi_predictor, common_model, num_of_examples):\n",
    "    \n",
    "    def create_dataset_for_comparing(dataset, size):\n",
    "        new_dataset = []\n",
    "        for i in range(size):\n",
    "            r_n = int(random.random()*len(dataset))\n",
    "            #print(r_n)\n",
    "            new_dataset.append(dataset[r_n])\n",
    "\n",
    "        return new_dataset\n",
    "    #print(maps_FI)\n",
    "    #return\n",
    "    new_dataset = create_dataset_for_comparing(val_dataset,num_of_examples)\n",
    "    val_loader_for_map = DataLoader(new_dataset, batch_size=1, shuffle=False,collate_fn=collate_fn)\n",
    "    \n",
    "    maps_FI, conf_m_FI = count_avg_map_and_conf_matr(common_model, sahi_predictor,loader=val_loader_for_map,\\\n",
    "                                                                 value_to_break = num_of_examples-1,flag='Full inference' )\n",
    "    \n",
    "    maps_sahi, conf_m_sahi = count_avg_map_and_conf_matr(None, sahi_predictor,loader=val_loader_for_map,\\\n",
    "                                                                 value_to_break = num_of_examples-1,flag='SAHI' )\n",
    "    \n",
    "    maps_not_sahi, conf_m_not_sahi = count_avg_map_and_conf_matr(common_model, None,loader=val_loader_for_map,\\\n",
    "                                                                 value_to_break = num_of_examples-1,flag='Common model' )\n",
    "    return maps_FI, conf_m_FI, maps_sahi, conf_m_sahi, maps_not_sahi, conf_m_not_sahi"
   ]
  },
  {
   "cell_type": "code",
   "execution_count": null,
   "id": "8161e65b",
   "metadata": {},
   "outputs": [],
   "source": [
    "\n",
    "model = model.to(device)"
   ]
  },
  {
   "cell_type": "code",
   "execution_count": null,
   "id": "9cac3e54",
   "metadata": {
    "scrolled": true
   },
   "outputs": [],
   "source": [
    "count_avg_map_and_conf_matr.model_preds=None\n",
    "count_avg_map_and_conf_matr.SAHI_preds=None\n",
    "\n",
    "maps_FI, conf_m_FI, maps_sahi, conf_m_sahi, maps_not_sahi, conf_m_not_sahi =  cmp_sahi_and_common(val_dataset,\\\n",
    "                                                                                                  sahi_predictor,model,540)\n",
    "\n",
    "\n",
    "fig, ax = plt.subplots(nrows=3,ncols=1, figsize=(10,15))\n",
    "print('FI: \\n',maps_FI)\n",
    "print('SAHI: \\n',maps_sahi)\n",
    "print('NOT SAHI: \\n',maps_not_sahi)\n",
    "\n",
    "hm = draw_heatmap(conf_m_FI,ax[0])\n",
    "hm = draw_heatmap(conf_m_sahi,ax[1])\n",
    "hm = draw_heatmap(conf_m_not_sahi,ax[2])\n",
    "with open('Results\\\\mAPs\\\\file.txt','w') as f:\n",
    "    f.write('FI:\\n'+maps_FI)\n",
    "    f.write('SAHI:\\n'+maps_sahi)\n",
    "    f.write('NOT SAHI:\\n'+maps_not_sahi)\n",
    "fig.savefig(f'D:\\\\Drone-Object-Detection\\\\Results\\\\conf_matrix.png')"
   ]
  },
  {
   "cell_type": "code",
   "execution_count": null,
   "id": "ea2521fc",
   "metadata": {
    "scrolled": true
   },
   "outputs": [],
   "source": [
    "def draw_random_preds(model, dataset, size, imgs_num):\n",
    "    \n",
    "    \n",
    "    \n",
    "    imgs = []\n",
    "    l=[]\n",
    "    for el in dataset:\n",
    "        imgs.append(el[0])\n",
    "        l.append(el[1])\n",
    "    \n",
    "    batch_imgs = np.stack(imgs)\n",
    "    annotations = l\n",
    "    \n",
    "    \n",
    "    batch_imgs = [torch.from_numpy(img).float().to(device) for img in batch_imgs]#tensor\n",
    "    with torch.no_grad():\n",
    "        preds = model(batch_imgs)#tensor\n",
    "    preds = replace_cuda_with_cpu(preds) \n",
    "\n",
    "\n",
    "\n",
    "\n",
    "    nms_preds = []\n",
    "    for pred in preds:\n",
    "        nms_pred = non_max_suppression_git(pred)\n",
    "        nms_preds.append(nms_pred)\n",
    "\n",
    "    draw_predictions(batch_imgs,nms_preds,'pred',imgs_num)#list of dictionaries of tensors\n"
   ]
  },
  {
   "cell_type": "code",
   "execution_count": null,
   "id": "3d27b105",
   "metadata": {
    "scrolled": true
   },
   "outputs": [],
   "source": [
    "#draw_random_preds(sahi_predictor, val_dataset,2)"
   ]
  },
  {
   "cell_type": "code",
   "execution_count": null,
   "id": "69232e4c",
   "metadata": {},
   "outputs": [],
   "source": [
    "def compare_draw_sahi_and_withot(model, sahi_predictor, dataset, size):\n",
    "    \n",
    "    def create_dataset_for_comparing(dataset, size):\n",
    "        new_dataset = []\n",
    "        for i in range(size):\n",
    "            r_n = int(random.random()*len(dataset))\n",
    "            #print(r_n)\n",
    "            new_dataset.append(dataset[r_n])\n",
    "\n",
    "        return new_dataset\n",
    "    \n",
    "    new_dataset = create_dataset_for_comparing(dataset, size)\n",
    "    draw_random_preds(model,new_dataset, size, 0 )\n",
    "    draw_random_preds(sahi_predictor,new_dataset, size,1 )\n",
    "    "
   ]
  },
  {
   "cell_type": "code",
   "execution_count": null,
   "id": "cef7705e",
   "metadata": {},
   "outputs": [],
   "source": [
    "compare_draw_sahi_and_withot(model, sahi_predictor, val_dataset, 1)\n"
   ]
  },
  {
   "cell_type": "code",
   "execution_count": null,
   "id": "b27514ce",
   "metadata": {},
   "outputs": [],
   "source": []
  },
  {
   "cell_type": "code",
   "execution_count": null,
   "id": "85ea26d5",
   "metadata": {},
   "outputs": [],
   "source": [
    "#slice_coco?????"
   ]
  }
 ],
 "metadata": {
  "kernelspec": {
   "display_name": "Python 3 (ipykernel)",
   "language": "python",
   "name": "python3"
  },
  "language_info": {
   "codemirror_mode": {
    "name": "ipython",
    "version": 3
   },
   "file_extension": ".py",
   "mimetype": "text/x-python",
   "name": "python",
   "nbconvert_exporter": "python",
   "pygments_lexer": "ipython3",
   "version": "3.11.4"
  }
 },
 "nbformat": 4,
 "nbformat_minor": 5
}
